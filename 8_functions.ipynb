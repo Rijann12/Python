{
  "nbformat": 4,
  "nbformat_minor": 0,
  "metadata": {
    "colab": {
      "provenance": [],
      "authorship_tag": "ABX9TyPQPI8DFVD7mdHudpq/9vtS",
      "include_colab_link": true
    },
    "kernelspec": {
      "name": "python3",
      "display_name": "Python 3"
    },
    "language_info": {
      "name": "python"
    }
  },
  "cells": [
    {
      "cell_type": "markdown",
      "metadata": {
        "id": "view-in-github",
        "colab_type": "text"
      },
      "source": [
        "<a href=\"https://colab.research.google.com/github/Rijann12/Pythonquiz/blob/main/8_functions.ipynb\" target=\"_parent\"><img src=\"https://colab.research.google.com/assets/colab-badge.svg\" alt=\"Open In Colab\"/></a>"
      ]
    },
    {
      "cell_type": "markdown",
      "source": [
        "#Basics\n"
      ],
      "metadata": {
        "id": "8ACY0V_Fs7N2"
      }
    },
    {
      "cell_type": "code",
      "execution_count": null,
      "metadata": {
        "id": "5rMax-pJqTbC"
      },
      "outputs": [],
      "source": [
        "#defining a function\n",
        "def welcome():\n",
        "  print('hello')\n"
      ]
    },
    {
      "cell_type": "code",
      "source": [
        "#function calling\n",
        "welcome()"
      ],
      "metadata": {
        "colab": {
          "base_uri": "https://localhost:8080/"
        },
        "id": "3KF3UdvNtPxX",
        "outputId": "5b3fc9d8-0069-4fe7-e4a4-58d0c1681be3"
      },
      "execution_count": null,
      "outputs": [
        {
          "output_type": "stream",
          "name": "stdout",
          "text": [
            "hello\n"
          ]
        }
      ]
    },
    {
      "cell_type": "markdown",
      "source": [
        "#Passing information to a function"
      ],
      "metadata": {
        "id": "pcl590pctb65"
      }
    },
    {
      "cell_type": "code",
      "source": [
        "def sum_num(num1,num2):\n",
        "  print(f\"sum of {num1} and {num2} is {num1+num2} \")\n",
        "sum_num('Two','Three')"
      ],
      "metadata": {
        "colab": {
          "base_uri": "https://localhost:8080/"
        },
        "id": "eazUtUtVtXEM",
        "outputId": "aa629cf3-fd09-49ff-e559-d2ef7ef5e635"
      },
      "execution_count": null,
      "outputs": [
        {
          "output_type": "stream",
          "name": "stdout",
          "text": [
            "sum of {num1} and {num2} is {num1+num2} \n"
          ]
        }
      ]
    },
    {
      "cell_type": "markdown",
      "source": [
        "#function with default values\n"
      ],
      "metadata": {
        "id": "h5FpAM0WuJ5b"
      }
    },
    {
      "cell_type": "code",
      "source": [
        "def full_name(first_name,last_name,middle_name='Python'):\n",
        "  print('My name is '+first_name.title()+' '+\n",
        "        middle_name.title()+' '+last_name.title())\n",
        "full_name('Donald','A.','Duck')"
      ],
      "metadata": {
        "colab": {
          "base_uri": "https://localhost:8080/"
        },
        "id": "STTQvsSnuNES",
        "outputId": "daf4c453-64fb-4445-97fa-3066bf9b189f"
      },
      "execution_count": null,
      "outputs": [
        {
          "output_type": "stream",
          "name": "stdout",
          "text": [
            "My name is Donald Duck A.\n"
          ]
        }
      ]
    },
    {
      "cell_type": "code",
      "source": [
        "fullName=full_name(\"Rijan\",\"Gurung\")\n",
        "print(fullName)\n"
      ],
      "metadata": {
        "colab": {
          "base_uri": "https://localhost:8080/"
        },
        "id": "tBwCEI9Evc9y",
        "outputId": "93a4e45b-9434-4295-b071-507f1f31983a"
      },
      "execution_count": null,
      "outputs": [
        {
          "output_type": "stream",
          "name": "stdout",
          "text": [
            "My name is Rijan Python Gurung\n",
            "None\n"
          ]
        }
      ]
    },
    {
      "cell_type": "markdown",
      "source": [
        "#Return\n"
      ],
      "metadata": {
        "id": "Fk4kqA37vxki"
      }
    },
    {
      "cell_type": "code",
      "source": [
        "def get_formatted_name(first_name,last_name):\n",
        "  full_name=first_name.title()+\" \"+last_name.title()\n",
        "  return full_name\n",
        "get_formatted_name('jimi','chang')"
      ],
      "metadata": {
        "colab": {
          "base_uri": "https://localhost:8080/",
          "height": 36
        },
        "id": "6KGEV_1PvvCx",
        "outputId": "2ad71302-1472-4400-c665-c149007b612b"
      },
      "execution_count": null,
      "outputs": [
        {
          "output_type": "execute_result",
          "data": {
            "text/plain": [
              "'Jimi Chang'"
            ],
            "application/vnd.google.colaboratory.intrinsic+json": {
              "type": "string"
            }
          },
          "metadata": {},
          "execution_count": 19
        }
      ]
    },
    {
      "cell_type": "code",
      "source": [
        "output=get_formatted_name('jimi','chang')\n",
        "print(output)"
      ],
      "metadata": {
        "colab": {
          "base_uri": "https://localhost:8080/"
        },
        "id": "JodN1V8cwTOL",
        "outputId": "2f0715fc-2f1a-48a4-a167-30d8def2dd66"
      },
      "execution_count": null,
      "outputs": [
        {
          "output_type": "stream",
          "name": "stdout",
          "text": [
            "Jimi Chang\n"
          ]
        }
      ]
    },
    {
      "cell_type": "code",
      "source": [
        "def musician(name,instrument):\n",
        "  person ={'name':name,\n",
        "           'instreument':instrument\n",
        "           }\n",
        "  return person\n",
        "musician('Nicolas','drums')"
      ],
      "metadata": {
        "colab": {
          "base_uri": "https://localhost:8080/"
        },
        "id": "fybMYFQzwb8p",
        "outputId": "dfb04a01-1c0a-43c7-f0fa-0cbc6dc29036"
      },
      "execution_count": null,
      "outputs": [
        {
          "output_type": "execute_result",
          "data": {
            "text/plain": [
              "{'name': 'Nicolas', 'instreument': 'drums'}"
            ]
          },
          "metadata": {},
          "execution_count": 21
        }
      ]
    },
    {
      "cell_type": "markdown",
      "source": [
        "#Passing a list\n"
      ],
      "metadata": {
        "id": "XC2JekIGw-LU"
      }
    },
    {
      "cell_type": "code",
      "source": [
        "def greet_users(names):\n",
        "  for name in names:\n",
        "    msg=\"Hello, \"+name.title()+\" !!\"\n",
        "    print(msg)\n"
      ],
      "metadata": {
        "id": "DX7yOPbRxAtD"
      },
      "execution_count": null,
      "outputs": []
    },
    {
      "cell_type": "code",
      "source": [
        "usernames=['Suru','Puru','Abhi']\n",
        "greet_users(usernames)\n"
      ],
      "metadata": {
        "colab": {
          "base_uri": "https://localhost:8080/"
        },
        "id": "nzR66ahqxP8G",
        "outputId": "1ad180e9-b5df-4190-e647-d2a9c8eb6bd6"
      },
      "execution_count": null,
      "outputs": [
        {
          "output_type": "stream",
          "name": "stdout",
          "text": [
            "Hello, Suru !!\n",
            "Hello, Puru !!\n",
            "Hello, Abhi !!\n"
          ]
        }
      ]
    },
    {
      "cell_type": "markdown",
      "source": [
        "#Returning a list\n"
      ],
      "metadata": {
        "id": "bjrEEhAIxpYG"
      }
    },
    {
      "cell_type": "code",
      "source": [
        "def list_of_staff():\n",
        "  staff_list=[]\n",
        "  while True:\n",
        "    staff=input(\"Enter name od staff: \")\n",
        "    staff_list.append(staff)\n",
        "    response=input(\"Enter Q to exit: \")\n",
        "    if(response == 'Q'):\n",
        "      break\n",
        "    return staff_list"
      ],
      "metadata": {
        "id": "Ivbr3PbvxruV"
      },
      "execution_count": null,
      "outputs": []
    },
    {
      "cell_type": "code",
      "source": [
        "list_of_staff()"
      ],
      "metadata": {
        "colab": {
          "base_uri": "https://localhost:8080/"
        },
        "id": "u3HRkzR-yK1M",
        "outputId": "f436a7a2-be14-4368-ddeb-71bddd0c2fb6"
      },
      "execution_count": null,
      "outputs": [
        {
          "name": "stdout",
          "output_type": "stream",
          "text": [
            "Enter name od staff: rijan\n",
            "Enter Q to exit: p\n"
          ]
        },
        {
          "output_type": "execute_result",
          "data": {
            "text/plain": [
              "['rijan']"
            ]
          },
          "metadata": {},
          "execution_count": 29
        }
      ]
    },
    {
      "cell_type": "code",
      "source": [
        "def staff_list(*staff_name):\n",
        "  for staff in staff_name:\n",
        "    print(staff)"
      ],
      "metadata": {
        "id": "aSIT-MtQzPqW"
      },
      "execution_count": null,
      "outputs": []
    },
    {
      "cell_type": "code",
      "source": [
        "staff_list('Donald Duck','Prabhu Deva','Bruno Mars')"
      ],
      "metadata": {
        "colab": {
          "base_uri": "https://localhost:8080/"
        },
        "id": "rCe1uOQ3ziGL",
        "outputId": "00a515c1-a5bc-4642-e89e-6297edf51db6"
      },
      "execution_count": null,
      "outputs": [
        {
          "output_type": "stream",
          "name": "stdout",
          "text": [
            "Donald Duck\n",
            "Prabhu Deva\n",
            "Bruno Mars\n"
          ]
        }
      ]
    },
    {
      "cell_type": "markdown",
      "source": [
        "#Mixing positional and arbitrary arguments\n"
      ],
      "metadata": {
        "id": "1_cK6Ca1zxD4"
      }
    },
    {
      "cell_type": "code",
      "source": [
        "def student(name,*skills):\n",
        "  print(name+' has following skills')\n",
        "  for skill in skills:\n",
        "    print(skill)"
      ],
      "metadata": {
        "id": "qujCODahz6Dc"
      },
      "execution_count": null,
      "outputs": []
    },
    {
      "cell_type": "code",
      "source": [
        "student('Pratap','drawing')"
      ],
      "metadata": {
        "colab": {
          "base_uri": "https://localhost:8080/"
        },
        "id": "5maw0Vyz0J-L",
        "outputId": "15da7159-7799-4486-d032-8f80bcd87097"
      },
      "execution_count": null,
      "outputs": [
        {
          "output_type": "stream",
          "name": "stdout",
          "text": [
            "Pratap has following skills\n",
            "drawing\n"
          ]
        }
      ]
    },
    {
      "cell_type": "code",
      "source": [
        "student(\"santos\",'archery','poetry','dancing')"
      ],
      "metadata": {
        "colab": {
          "base_uri": "https://localhost:8080/"
        },
        "id": "Eb3j7q9v0S6L",
        "outputId": "03ea910d-bb0d-4983-e6d6-bc3147703990"
      },
      "execution_count": null,
      "outputs": [
        {
          "output_type": "stream",
          "name": "stdout",
          "text": [
            "santos has following skills\n",
            "archery\n",
            "poetry\n",
            "dancing\n"
          ]
        }
      ]
    },
    {
      "cell_type": "code",
      "source": [
        "student(\"ram\")"
      ],
      "metadata": {
        "colab": {
          "base_uri": "https://localhost:8080/"
        },
        "id": "8Ci_AaBH0ndy",
        "outputId": "754fd171-3e65-4d31-cf6a-b57714f5ab91"
      },
      "execution_count": null,
      "outputs": [
        {
          "output_type": "stream",
          "name": "stdout",
          "text": [
            "ram has following skills\n"
          ]
        }
      ]
    },
    {
      "cell_type": "markdown",
      "source": [
        "#Using arbitrary keyword arguments\n"
      ],
      "metadata": {
        "id": "qdY5kNyV0rRh"
      }
    },
    {
      "cell_type": "code",
      "source": [
        "def build_profile(first,last,**user_info):\n",
        "  profile={}\n",
        "  profile['first name']=first\n",
        "  profile['last name']=last\n",
        "  for key,value in user_info.items():\n",
        "    profile[key]=value\n",
        "\n",
        "    return profile\n",
        "\n"
      ],
      "metadata": {
        "id": "Xf65IAvm0u_0"
      },
      "execution_count": null,
      "outputs": []
    },
    {
      "cell_type": "code",
      "source": [
        "build_profile('Santos','Bhatta',age=30,address='Baglung')"
      ],
      "metadata": {
        "colab": {
          "base_uri": "https://localhost:8080/"
        },
        "id": "kWmeMQYa1Pjt",
        "outputId": "47e5bf7c-c1fc-48c0-d549-da3bcc18cb9e"
      },
      "execution_count": null,
      "outputs": [
        {
          "output_type": "execute_result",
          "data": {
            "text/plain": [
              "{'first name': 'Santos', 'last name': 'Bhatta', 'age': 30}"
            ]
          },
          "metadata": {},
          "execution_count": 40
        }
      ]
    },
    {
      "cell_type": "code",
      "source": [
        "build_profile('Anis','B',age=33,address='Kathmandu',sports=(\"tennis\",\"cricket\"))"
      ],
      "metadata": {
        "colab": {
          "base_uri": "https://localhost:8080/"
        },
        "id": "XJ1E7_DY12IV",
        "outputId": "d039e045-a001-4957-bf06-804d67604b61"
      },
      "execution_count": null,
      "outputs": [
        {
          "output_type": "execute_result",
          "data": {
            "text/plain": [
              "{'first name': 'Anis', 'last name': 'B', 'age': 33}"
            ]
          },
          "metadata": {},
          "execution_count": 43
        }
      ]
    },
    {
      "cell_type": "markdown",
      "source": [
        "#writing your own python module\n"
      ],
      "metadata": {
        "id": "lMqXsTy92isB"
      }
    },
    {
      "cell_type": "code",
      "source": [
        "%writefile func.py\n",
        "def func():\n",
        "  ''''\n",
        "  This is a sample function\n",
        "  inside a module\\\n",
        "  ''''\n",
        "  print('Hi from module')\n"
      ],
      "metadata": {
        "colab": {
          "base_uri": "https://localhost:8080/",
          "height": 106
        },
        "id": "_BnF6n822mBG",
        "outputId": "edd05fb1-f67e-47e0-80f9-add3dfd36aac"
      },
      "execution_count": null,
      "outputs": [
        {
          "output_type": "error",
          "ename": "SyntaxError",
          "evalue": "unterminated string literal (detected at line 6) (<ipython-input-44-a5c250f1e855>, line 6)",
          "traceback": [
            "\u001b[0;36m  File \u001b[0;32m\"<ipython-input-44-a5c250f1e855>\"\u001b[0;36m, line \u001b[0;32m6\u001b[0m\n\u001b[0;31m    ''''\u001b[0m\n\u001b[0m       ^\u001b[0m\n\u001b[0;31mSyntaxError\u001b[0m\u001b[0;31m:\u001b[0m unterminated string literal (detected at line 6)\n"
          ]
        }
      ]
    },
    {
      "cell_type": "code",
      "source": [
        "import func\n",
        "func.func()\n"
      ],
      "metadata": {
        "id": "DCx1JUTN3Gx7"
      },
      "execution_count": null,
      "outputs": []
    },
    {
      "cell_type": "code",
      "source": [
        "%%writefile rijan.py\n",
        "def hero_yourname():\n",
        "  print('Captain America')\n",
        "\n",
        "def games_yourname(*video_games):\n",
        "   for game in video_games:\n",
        "     print(game)"
      ],
      "metadata": {
        "colab": {
          "base_uri": "https://localhost:8080/"
        },
        "id": "QVEs8Y4I3N1O",
        "outputId": "bf64882e-85a3-42c2-f321-a74f08f5103f"
      },
      "execution_count": null,
      "outputs": [
        {
          "output_type": "stream",
          "name": "stdout",
          "text": [
            "Writing rijan.py\n"
          ]
        }
      ]
    },
    {
      "cell_type": "code",
      "source": [
        "import kshitij\n"
      ],
      "metadata": {
        "id": "SHZLV0636Dss"
      },
      "execution_count": null,
      "outputs": []
    },
    {
      "cell_type": "code",
      "source": [
        "%cat kshitij.py"
      ],
      "metadata": {
        "colab": {
          "base_uri": "https://localhost:8080/"
        },
        "id": "94Hp8tvM6cdP",
        "outputId": "1b538b73-1a7f-4a6e-9030-d9ff7d78f822"
      },
      "execution_count": null,
      "outputs": [
        {
          "output_type": "stream",
          "name": "stdout",
          "text": [
            "def hero_youorname():\n",
            "  print('captain america')\n",
            "\n",
            "def gamnes_yourname(*video_games):\n",
            "  for game in video_games:\n",
            "    print(game)\n"
          ]
        }
      ]
    },
    {
      "cell_type": "code",
      "source": [
        "kshitij.hero_youorname()"
      ],
      "metadata": {
        "colab": {
          "base_uri": "https://localhost:8080/"
        },
        "id": "u66QyQ6O6hCb",
        "outputId": "1dd7cd65-6075-46a5-bef4-d0e26f08066e"
      },
      "execution_count": null,
      "outputs": [
        {
          "output_type": "stream",
          "name": "stdout",
          "text": [
            "captain america\n"
          ]
        }
      ]
    },
    {
      "cell_type": "code",
      "source": [
        "kshitij.gamnes_yourname('gta','valorant')"
      ],
      "metadata": {
        "colab": {
          "base_uri": "https://localhost:8080/"
        },
        "id": "MfuhT9hl6rxN",
        "outputId": "71920b25-0b22-44d6-f25b-2a5f057f3fbd"
      },
      "execution_count": null,
      "outputs": [
        {
          "output_type": "stream",
          "name": "stdout",
          "text": [
            "gta\n",
            "valorant\n"
          ]
        }
      ]
    },
    {
      "cell_type": "code",
      "source": [
        "from kshitij import gamnes_yourname\n",
        "gamnes_yourname('gta','valorant')"
      ],
      "metadata": {
        "colab": {
          "base_uri": "https://localhost:8080/"
        },
        "id": "pbqu4DgD61tr",
        "outputId": "ebbb9f61-faf2-46c5-b570-e31583e8c6e1"
      },
      "execution_count": null,
      "outputs": [
        {
          "output_type": "stream",
          "name": "stdout",
          "text": [
            "gta\n",
            "valorant\n"
          ]
        }
      ]
    }
  ]
}