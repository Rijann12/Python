{
  "nbformat": 4,
  "nbformat_minor": 0,
  "metadata": {
    "colab": {
      "provenance": [],
      "authorship_tag": "ABX9TyNbuvPLKeNdutpDv4jgM5PL",
      "include_colab_link": true
    },
    "kernelspec": {
      "name": "python3",
      "display_name": "Python 3"
    },
    "language_info": {
      "name": "python"
    }
  },
  "cells": [
    {
      "cell_type": "markdown",
      "metadata": {
        "id": "view-in-github",
        "colab_type": "text"
      },
      "source": [
        "<a href=\"https://colab.research.google.com/github/Rijann12/Pythonquiz/blob/main/12_CLASS.ipynb\" target=\"_parent\"><img src=\"https://colab.research.google.com/assets/colab-badge.svg\" alt=\"Open In Colab\"/></a>"
      ]
    },
    {
      "cell_type": "markdown",
      "source": [
        "#BASIC"
      ],
      "metadata": {
        "id": "Ox9hLNhyZ7LT"
      }
    },
    {
      "cell_type": "code",
      "execution_count": 7,
      "metadata": {
        "id": "2uQi63YSXGWW"
      },
      "outputs": [],
      "source": [
        "class A:\n",
        "  def func(self):\n",
        "    print(\"this is class A\")"
      ]
    },
    {
      "cell_type": "code",
      "source": [
        "a=A()"
      ],
      "metadata": {
        "id": "7Nn2gyF_aFwH"
      },
      "execution_count": 8,
      "outputs": []
    },
    {
      "cell_type": "code",
      "source": [
        "a.func()"
      ],
      "metadata": {
        "colab": {
          "base_uri": "https://localhost:8080/"
        },
        "id": "MVqM_33_aJg9",
        "outputId": "4ae7c2db-ad5e-4cc8-c715-289318300cd8"
      },
      "execution_count": 6,
      "outputs": [
        {
          "output_type": "stream",
          "name": "stdout",
          "text": [
            "this is class A\n"
          ]
        }
      ]
    },
    {
      "cell_type": "code",
      "source": [
        "class B:\n",
        " def greet(self,name):\n",
        "  print('hello',name)\n",
        " def full_name(self,first,last):\n",
        "  full_name=first+\" \"+last\n",
        "  print(full_name)"
      ],
      "metadata": {
        "id": "3b1QgPijaLXj"
      },
      "execution_count": 28,
      "outputs": []
    },
    {
      "cell_type": "code",
      "source": [
        "b=B()"
      ],
      "metadata": {
        "id": "8MYNE3lObH45"
      },
      "execution_count": 29,
      "outputs": []
    },
    {
      "cell_type": "code",
      "source": [
        "b.greet(\"Rijan\")"
      ],
      "metadata": {
        "colab": {
          "base_uri": "https://localhost:8080/"
        },
        "id": "0NGIZ5RIazvB",
        "outputId": "719be861-9807-40e8-a7a6-de12fbeb5944"
      },
      "execution_count": 30,
      "outputs": [
        {
          "output_type": "stream",
          "name": "stdout",
          "text": [
            "hello Rijan\n"
          ]
        }
      ]
    },
    {
      "cell_type": "code",
      "source": [
        "b.full_name(\"rijan\",\"gurung\")"
      ],
      "metadata": {
        "colab": {
          "base_uri": "https://localhost:8080/"
        },
        "id": "_1HeF7sIbMt5",
        "outputId": "7a222a58-697a-403b-eed4-ee9c437abae2"
      },
      "execution_count": 31,
      "outputs": [
        {
          "output_type": "stream",
          "name": "stdout",
          "text": [
            "rijan gurung\n"
          ]
        }
      ]
    },
    {
      "cell_type": "code",
      "source": [
        "class C:\n",
        "  def __init__(self,first,last):\n",
        "    self.first=first\n",
        "    self.last=last\n",
        "\n",
        "  def greet(self) :\n",
        "    print(\"Hello\",self.last)\n",
        "\n",
        "  def full_name(self):\n",
        "    self.fullname=self.first+\" \"+self.last\n",
        "    print(self.fullname)"
      ],
      "metadata": {
        "id": "blQeuLvBbbuQ"
      },
      "execution_count": 42,
      "outputs": []
    },
    {
      "cell_type": "code",
      "source": [
        "c= C(\"Rijan\",\"Gurung\")"
      ],
      "metadata": {
        "id": "_qBGtfm9cLYE"
      },
      "execution_count": 49,
      "outputs": []
    },
    {
      "cell_type": "code",
      "source": [
        "c.greet()"
      ],
      "metadata": {
        "colab": {
          "base_uri": "https://localhost:8080/"
        },
        "id": "eDoZ-GIjcPbG",
        "outputId": "685fcedf-1aec-4a92-a31a-0d0d5feba0ef"
      },
      "execution_count": 44,
      "outputs": [
        {
          "output_type": "stream",
          "name": "stdout",
          "text": [
            "Hello Gurung\n"
          ]
        }
      ]
    },
    {
      "cell_type": "code",
      "source": [
        "c.full_name()"
      ],
      "metadata": {
        "colab": {
          "base_uri": "https://localhost:8080/"
        },
        "id": "Oo5AW-0Qccwt",
        "outputId": "9ee6ba49-e0b7-40da-e97d-09ebfd7bfa2b"
      },
      "execution_count": 45,
      "outputs": [
        {
          "output_type": "stream",
          "name": "stdout",
          "text": [
            "Rijan Gurung\n"
          ]
        }
      ]
    },
    {
      "cell_type": "code",
      "source": [
        "c.first"
      ],
      "metadata": {
        "colab": {
          "base_uri": "https://localhost:8080/",
          "height": 36
        },
        "id": "N3s5AE-LcjW3",
        "outputId": "1a9d17f1-b467-4a1b-deff-7e5b23d66c81"
      },
      "execution_count": 46,
      "outputs": [
        {
          "output_type": "execute_result",
          "data": {
            "text/plain": [
              "'Rijan'"
            ],
            "application/vnd.google.colaboratory.intrinsic+json": {
              "type": "string"
            }
          },
          "metadata": {},
          "execution_count": 46
        }
      ]
    },
    {
      "cell_type": "code",
      "source": [
        "c.last"
      ],
      "metadata": {
        "colab": {
          "base_uri": "https://localhost:8080/",
          "height": 36
        },
        "id": "48bfOkGocr8i",
        "outputId": "60510d10-3a95-49f3-e412-1d4147775266"
      },
      "execution_count": 47,
      "outputs": [
        {
          "output_type": "execute_result",
          "data": {
            "text/plain": [
              "'Gurung'"
            ],
            "application/vnd.google.colaboratory.intrinsic+json": {
              "type": "string"
            }
          },
          "metadata": {},
          "execution_count": 47
        }
      ]
    },
    {
      "cell_type": "code",
      "source": [
        "c.fullname"
      ],
      "metadata": {
        "colab": {
          "base_uri": "https://localhost:8080/",
          "height": 36
        },
        "id": "UqMfP671cs_J",
        "outputId": "2150a626-462b-4329-be0a-f119feec2b26"
      },
      "execution_count": 48,
      "outputs": [
        {
          "output_type": "execute_result",
          "data": {
            "text/plain": [
              "'Rijan Gurung'"
            ],
            "application/vnd.google.colaboratory.intrinsic+json": {
              "type": "string"
            }
          },
          "metadata": {},
          "execution_count": 48
        }
      ]
    },
    {
      "cell_type": "markdown",
      "source": [
        "#inheritence"
      ],
      "metadata": {
        "id": "1UljC8Fqdk-9"
      }
    },
    {
      "cell_type": "code",
      "source": [
        "class A:\n",
        "  def func_A(self):\n",
        "    print(\"This is functiom of class A\")\n",
        ""
      ],
      "metadata": {
        "id": "wP9yCXfKcv_b"
      },
      "execution_count": 56,
      "outputs": []
    },
    {
      "cell_type": "code",
      "source": [
        "class B(A):\n",
        "  def func_B(self):\n",
        "    print(\"This is function of class B\")"
      ],
      "metadata": {
        "id": "iPULij1uduY-"
      },
      "execution_count": 57,
      "outputs": []
    },
    {
      "cell_type": "code",
      "source": [
        "class C(A):\n",
        "  def func_C(self):\n",
        "    print(\"This is function of class C\")"
      ],
      "metadata": {
        "id": "rjI4hzGId7zd"
      },
      "execution_count": 58,
      "outputs": []
    },
    {
      "cell_type": "code",
      "source": [
        "class D(A):\n",
        "  def func_D(self):\n",
        "    print(\"this is function of class D\")\n"
      ],
      "metadata": {
        "id": "zE6I2qHid996"
      },
      "execution_count": 59,
      "outputs": []
    },
    {
      "cell_type": "code",
      "source": [
        "a=A()\n",
        "b=B()\n",
        "c=C()\n",
        "d=D()"
      ],
      "metadata": {
        "id": "hu30ErkNeK4v"
      },
      "execution_count": 60,
      "outputs": []
    },
    {
      "cell_type": "code",
      "source": [
        "a.func_A()"
      ],
      "metadata": {
        "colab": {
          "base_uri": "https://localhost:8080/"
        },
        "id": "H3eB12w2emyH",
        "outputId": "1edeb436-467a-486e-b50f-08ef49a72ca6"
      },
      "execution_count": 61,
      "outputs": [
        {
          "output_type": "stream",
          "name": "stdout",
          "text": [
            "This is functiom of class A\n"
          ]
        }
      ]
    },
    {
      "cell_type": "code",
      "source": [
        "b.func_A()"
      ],
      "metadata": {
        "colab": {
          "base_uri": "https://localhost:8080/"
        },
        "id": "_pLOlpVaepQD",
        "outputId": "b69ff977-1355-43a9-fbed-3637c5eacb12"
      },
      "execution_count": 62,
      "outputs": [
        {
          "output_type": "stream",
          "name": "stdout",
          "text": [
            "This is functiom of class A\n"
          ]
        }
      ]
    },
    {
      "cell_type": "code",
      "source": [
        "b.func_B()"
      ],
      "metadata": {
        "colab": {
          "base_uri": "https://localhost:8080/"
        },
        "id": "M8UZHV3DesOp",
        "outputId": "94539baa-0c43-47fd-fffb-730c1356d45a"
      },
      "execution_count": 63,
      "outputs": [
        {
          "output_type": "stream",
          "name": "stdout",
          "text": [
            "This is function of class B\n"
          ]
        }
      ]
    },
    {
      "cell_type": "code",
      "source": [
        "c.func_A()\n",
        "c.func_C()"
      ],
      "metadata": {
        "colab": {
          "base_uri": "https://localhost:8080/"
        },
        "id": "i7uBVbGfewCA",
        "outputId": "7fec95fb-991e-457e-f83b-b86ddeddf09f"
      },
      "execution_count": 64,
      "outputs": [
        {
          "output_type": "stream",
          "name": "stdout",
          "text": [
            "This is functiom of class A\n",
            "This is function of class C\n"
          ]
        }
      ]
    },
    {
      "cell_type": "code",
      "source": [
        "d.func_A()\n",
        "d.func_D()\n"
      ],
      "metadata": {
        "colab": {
          "base_uri": "https://localhost:8080/"
        },
        "id": "LvomZcZKez4G",
        "outputId": "ed2fefbc-86aa-4506-e961-7d0a8462c76e"
      },
      "execution_count": 65,
      "outputs": [
        {
          "output_type": "stream",
          "name": "stdout",
          "text": [
            "This is functiom of class A\n",
            "this is function of class D\n"
          ]
        }
      ]
    },
    {
      "cell_type": "code",
      "source": [
        "class Person:\n",
        "  domain=\"Knight\"\n",
        "  def __init__(self,first,last):\n",
        "    self.first=first\n",
        "    self.last=last\n",
        "  def email(self):\n",
        "    self.email=self.last+\"@\"+self.domain+'.com'\n",
        "    print(self.email)"
      ],
      "metadata": {
        "id": "ug_92bwve4Tb"
      },
      "execution_count": 100,
      "outputs": []
    },
    {
      "cell_type": "code",
      "source": [
        "class Student(Person):\n",
        "  domain='rook'\n",
        "  def __init__(self,first,last,stream):\n",
        "    super().__init__(first,last)\n",
        "    #super() le constructor call garxa\n",
        "    self.stream=stream\n",
        ""
      ],
      "metadata": {
        "id": "IrKVVDjBfj8l"
      },
      "execution_count": 101,
      "outputs": []
    },
    {
      "cell_type": "code",
      "source": [
        "p=Person(\"rijan\",\"gurung\")\n",
        "s=Student(\"suyes\",\"rumal\",\"CSIT\")"
      ],
      "metadata": {
        "id": "CQB4uS-2f-A1"
      },
      "execution_count": 102,
      "outputs": []
    },
    {
      "cell_type": "code",
      "source": [
        "p.email()\n",
        "s.email()"
      ],
      "metadata": {
        "colab": {
          "base_uri": "https://localhost:8080/"
        },
        "id": "4SLsjKmagb4a",
        "outputId": "e589c485-7af8-4ebd-9f35-fabb89e67308"
      },
      "execution_count": 103,
      "outputs": [
        {
          "output_type": "stream",
          "name": "stdout",
          "text": [
            "gurung@Knight.com\n",
            "rumal@rook.com\n"
          ]
        }
      ]
    },
    {
      "cell_type": "code",
      "source": [
        "class undergrad(Student):\n",
        "  clubs=['Music','dance','fighting']\n",
        "  def join_club(self,club):\n",
        "    if club in self.clubs:\n",
        "      self.club=club\n",
        "      # return club"
      ],
      "metadata": {
        "id": "VAv9GdvMgpHZ"
      },
      "execution_count": 130,
      "outputs": []
    },
    {
      "cell_type": "code",
      "source": [
        "class postgrad(Student):\n",
        "  labs=['physuc','aerodynamic','robotic']\n",
        "  def join_lab(self,lab):\n",
        "    if lab in self.labs:\n",
        "      self.lab=lab"
      ],
      "metadata": {
        "id": "KXqwsQCgiwPh"
      },
      "execution_count": 131,
      "outputs": []
    },
    {
      "cell_type": "code",
      "source": [
        "student2=undergrad(\"rijan\",\"gurung\",\"mechanical\")\n",
        "student3=postgrad(\"suyes\",\"rumal\",\"electrical\")"
      ],
      "metadata": {
        "id": "uOr-s186i-gO"
      },
      "execution_count": 132,
      "outputs": []
    },
    {
      "cell_type": "code",
      "source": [
        "student3.email()"
      ],
      "metadata": {
        "colab": {
          "base_uri": "https://localhost:8080/"
        },
        "id": "dslQsnRfjSS2",
        "outputId": "eec0bb2d-db7e-413b-ca2b-42ee15761787"
      },
      "execution_count": 133,
      "outputs": [
        {
          "output_type": "stream",
          "name": "stdout",
          "text": [
            "rumal@rook.com\n"
          ]
        }
      ]
    },
    {
      "cell_type": "code",
      "source": [
        "student2.join_club('fighting')"
      ],
      "metadata": {
        "id": "OV-a0tm1kd8I"
      },
      "execution_count": 134,
      "outputs": []
    },
    {
      "cell_type": "code",
      "source": [
        "student2.club"
      ],
      "metadata": {
        "colab": {
          "base_uri": "https://localhost:8080/",
          "height": 36
        },
        "id": "FMztifb6knPj",
        "outputId": "1166d5e9-1304-40ad-a0f7-afd27ac83d26"
      },
      "execution_count": 135,
      "outputs": [
        {
          "output_type": "execute_result",
          "data": {
            "text/plain": [
              "'fighting'"
            ],
            "application/vnd.google.colaboratory.intrinsic+json": {
              "type": "string"
            }
          },
          "metadata": {},
          "execution_count": 135
        }
      ]
    },
    {
      "cell_type": "code",
      "source": [
        "student3.join_lab('robotic')"
      ],
      "metadata": {
        "id": "agaU818MkuE4"
      },
      "execution_count": 137,
      "outputs": []
    },
    {
      "cell_type": "code",
      "source": [
        "student3.lab"
      ],
      "metadata": {
        "colab": {
          "base_uri": "https://localhost:8080/",
          "height": 36
        },
        "id": "1MQoqGkLl4l3",
        "outputId": "6f3c36f1-afdd-4097-bf7b-54c97a2cf905"
      },
      "execution_count": 138,
      "outputs": [
        {
          "output_type": "execute_result",
          "data": {
            "text/plain": [
              "'robotic'"
            ],
            "application/vnd.google.colaboratory.intrinsic+json": {
              "type": "string"
            }
          },
          "metadata": {},
          "execution_count": 138
        }
      ]
    },
    {
      "cell_type": "code",
      "source": [],
      "metadata": {
        "id": "dr0FkAlwl-e0"
      },
      "execution_count": null,
      "outputs": []
    }
  ]
}