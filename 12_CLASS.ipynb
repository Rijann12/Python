{
  "nbformat": 4,
  "nbformat_minor": 0,
  "metadata": {
    "colab": {
      "provenance": [],
      "authorship_tag": "ABX9TyNE650Uq+VgMkoU8NSurDj2",
      "include_colab_link": true
    },
    "kernelspec": {
      "name": "python3",
      "display_name": "Python 3"
    },
    "language_info": {
      "name": "python"
    }
  },
  "cells": [
    {
      "cell_type": "markdown",
      "metadata": {
        "id": "view-in-github",
        "colab_type": "text"
      },
      "source": [
        "<a href=\"https://colab.research.google.com/github/Rijann12/Pythonquiz/blob/main/12_CLASS.ipynb\" target=\"_parent\"><img src=\"https://colab.research.google.com/assets/colab-badge.svg\" alt=\"Open In Colab\"/></a>"
      ]
    },
    {
      "cell_type": "markdown",
      "source": [
        "#BASIC"
      ],
      "metadata": {
        "id": "Ox9hLNhyZ7LT"
      }
    },
    {
      "cell_type": "code",
      "execution_count": 7,
      "metadata": {
        "id": "2uQi63YSXGWW"
      },
      "outputs": [],
      "source": [
        "class A:\n",
        "  def func(self):\n",
        "    print(\"this is class A\")"
      ]
    },
    {
      "cell_type": "code",
      "source": [
        "a=A()"
      ],
      "metadata": {
        "id": "7Nn2gyF_aFwH"
      },
      "execution_count": 8,
      "outputs": []
    },
    {
      "cell_type": "code",
      "source": [
        "a.func()"
      ],
      "metadata": {
        "colab": {
          "base_uri": "https://localhost:8080/"
        },
        "id": "MVqM_33_aJg9",
        "outputId": "4ae7c2db-ad5e-4cc8-c715-289318300cd8"
      },
      "execution_count": 6,
      "outputs": [
        {
          "output_type": "stream",
          "name": "stdout",
          "text": [
            "this is class A\n"
          ]
        }
      ]
    },
    {
      "cell_type": "code",
      "source": [
        "class B:\n",
        " def greet(self,name):\n",
        "  print('hello',name)\n",
        " def full_name(self,first,last):\n",
        "  full_name=first+\" \"+last\n",
        "  print(full_name)"
      ],
      "metadata": {
        "id": "3b1QgPijaLXj"
      },
      "execution_count": 28,
      "outputs": []
    },
    {
      "cell_type": "code",
      "source": [
        "b=B()"
      ],
      "metadata": {
        "id": "8MYNE3lObH45"
      },
      "execution_count": 29,
      "outputs": []
    },
    {
      "cell_type": "code",
      "source": [
        "b.greet(\"Rijan\")"
      ],
      "metadata": {
        "colab": {
          "base_uri": "https://localhost:8080/"
        },
        "id": "0NGIZ5RIazvB",
        "outputId": "719be861-9807-40e8-a7a6-de12fbeb5944"
      },
      "execution_count": 30,
      "outputs": [
        {
          "output_type": "stream",
          "name": "stdout",
          "text": [
            "hello Rijan\n"
          ]
        }
      ]
    },
    {
      "cell_type": "code",
      "source": [
        "b.full_name(\"rijan\",\"gurung\")"
      ],
      "metadata": {
        "colab": {
          "base_uri": "https://localhost:8080/"
        },
        "id": "_1HeF7sIbMt5",
        "outputId": "7a222a58-697a-403b-eed4-ee9c437abae2"
      },
      "execution_count": 31,
      "outputs": [
        {
          "output_type": "stream",
          "name": "stdout",
          "text": [
            "rijan gurung\n"
          ]
        }
      ]
    },
    {
      "cell_type": "code",
      "source": [
        "class C:\n",
        "  def __init__(self,first,last):\n",
        "    self.first=first\n",
        "    self.last=last\n",
        "\n",
        "  def greet(self) :\n",
        "    print(\"Hello\",self.last)\n",
        "\n",
        "  def full_name(self):\n",
        "    self.fullname=self.first+\" \"+self.last\n",
        "    print(self.fullname)"
      ],
      "metadata": {
        "id": "blQeuLvBbbuQ"
      },
      "execution_count": 42,
      "outputs": []
    },
    {
      "cell_type": "code",
      "source": [
        "c= C(\"Rijan\",\"Gurung\")"
      ],
      "metadata": {
        "id": "_qBGtfm9cLYE"
      },
      "execution_count": 49,
      "outputs": []
    },
    {
      "cell_type": "code",
      "source": [
        "c.greet()"
      ],
      "metadata": {
        "colab": {
          "base_uri": "https://localhost:8080/"
        },
        "id": "eDoZ-GIjcPbG",
        "outputId": "685fcedf-1aec-4a92-a31a-0d0d5feba0ef"
      },
      "execution_count": 44,
      "outputs": [
        {
          "output_type": "stream",
          "name": "stdout",
          "text": [
            "Hello Gurung\n"
          ]
        }
      ]
    },
    {
      "cell_type": "code",
      "source": [
        "c.full_name()"
      ],
      "metadata": {
        "colab": {
          "base_uri": "https://localhost:8080/"
        },
        "id": "Oo5AW-0Qccwt",
        "outputId": "9ee6ba49-e0b7-40da-e97d-09ebfd7bfa2b"
      },
      "execution_count": 45,
      "outputs": [
        {
          "output_type": "stream",
          "name": "stdout",
          "text": [
            "Rijan Gurung\n"
          ]
        }
      ]
    },
    {
      "cell_type": "code",
      "source": [
        "c.first"
      ],
      "metadata": {
        "colab": {
          "base_uri": "https://localhost:8080/",
          "height": 36
        },
        "id": "N3s5AE-LcjW3",
        "outputId": "1a9d17f1-b467-4a1b-deff-7e5b23d66c81"
      },
      "execution_count": 46,
      "outputs": [
        {
          "output_type": "execute_result",
          "data": {
            "text/plain": [
              "'Rijan'"
            ],
            "application/vnd.google.colaboratory.intrinsic+json": {
              "type": "string"
            }
          },
          "metadata": {},
          "execution_count": 46
        }
      ]
    },
    {
      "cell_type": "code",
      "source": [
        "c.last"
      ],
      "metadata": {
        "colab": {
          "base_uri": "https://localhost:8080/",
          "height": 36
        },
        "id": "48bfOkGocr8i",
        "outputId": "60510d10-3a95-49f3-e412-1d4147775266"
      },
      "execution_count": 47,
      "outputs": [
        {
          "output_type": "execute_result",
          "data": {
            "text/plain": [
              "'Gurung'"
            ],
            "application/vnd.google.colaboratory.intrinsic+json": {
              "type": "string"
            }
          },
          "metadata": {},
          "execution_count": 47
        }
      ]
    },
    {
      "cell_type": "code",
      "source": [
        "c.fullname"
      ],
      "metadata": {
        "colab": {
          "base_uri": "https://localhost:8080/",
          "height": 36
        },
        "id": "UqMfP671cs_J",
        "outputId": "2150a626-462b-4329-be0a-f119feec2b26"
      },
      "execution_count": 48,
      "outputs": [
        {
          "output_type": "execute_result",
          "data": {
            "text/plain": [
              "'Rijan Gurung'"
            ],
            "application/vnd.google.colaboratory.intrinsic+json": {
              "type": "string"
            }
          },
          "metadata": {},
          "execution_count": 48
        }
      ]
    },
    {
      "cell_type": "markdown",
      "source": [
        "#inheritence"
      ],
      "metadata": {
        "id": "1UljC8Fqdk-9"
      }
    },
    {
      "cell_type": "code",
      "source": [
        "class A:\n",
        "  def func_A(self):\n",
        "    print(\"This is functiom of class A\")\n",
        ""
      ],
      "metadata": {
        "id": "wP9yCXfKcv_b"
      },
      "execution_count": 56,
      "outputs": []
    },
    {
      "cell_type": "code",
      "source": [
        "class B(A):\n",
        "  def func_B(self):\n",
        "    print(\"This is function of class B\")"
      ],
      "metadata": {
        "id": "iPULij1uduY-"
      },
      "execution_count": 57,
      "outputs": []
    },
    {
      "cell_type": "code",
      "source": [
        "class C(A):\n",
        "  def func_C(self):\n",
        "    print(\"This is function of class C\")"
      ],
      "metadata": {
        "id": "rjI4hzGId7zd"
      },
      "execution_count": 58,
      "outputs": []
    },
    {
      "cell_type": "code",
      "source": [
        "class D(A):\n",
        "  def func_D(self):\n",
        "    print(\"this is function of class D\")\n"
      ],
      "metadata": {
        "id": "zE6I2qHid996"
      },
      "execution_count": 59,
      "outputs": []
    },
    {
      "cell_type": "code",
      "source": [
        "a=A()\n",
        "b=B()\n",
        "c=C()\n",
        "d=D()"
      ],
      "metadata": {
        "id": "hu30ErkNeK4v"
      },
      "execution_count": 60,
      "outputs": []
    },
    {
      "cell_type": "code",
      "source": [
        "a.func_A()"
      ],
      "metadata": {
        "colab": {
          "base_uri": "https://localhost:8080/"
        },
        "id": "H3eB12w2emyH",
        "outputId": "1edeb436-467a-486e-b50f-08ef49a72ca6"
      },
      "execution_count": 61,
      "outputs": [
        {
          "output_type": "stream",
          "name": "stdout",
          "text": [
            "This is functiom of class A\n"
          ]
        }
      ]
    },
    {
      "cell_type": "code",
      "source": [
        "b.func_A()"
      ],
      "metadata": {
        "colab": {
          "base_uri": "https://localhost:8080/"
        },
        "id": "_pLOlpVaepQD",
        "outputId": "b69ff977-1355-43a9-fbed-3637c5eacb12"
      },
      "execution_count": 62,
      "outputs": [
        {
          "output_type": "stream",
          "name": "stdout",
          "text": [
            "This is functiom of class A\n"
          ]
        }
      ]
    },
    {
      "cell_type": "code",
      "source": [
        "b.func_B()"
      ],
      "metadata": {
        "colab": {
          "base_uri": "https://localhost:8080/"
        },
        "id": "M8UZHV3DesOp",
        "outputId": "94539baa-0c43-47fd-fffb-730c1356d45a"
      },
      "execution_count": 63,
      "outputs": [
        {
          "output_type": "stream",
          "name": "stdout",
          "text": [
            "This is function of class B\n"
          ]
        }
      ]
    },
    {
      "cell_type": "code",
      "source": [
        "c.func_A()\n",
        "c.func_C()"
      ],
      "metadata": {
        "colab": {
          "base_uri": "https://localhost:8080/"
        },
        "id": "i7uBVbGfewCA",
        "outputId": "7fec95fb-991e-457e-f83b-b86ddeddf09f"
      },
      "execution_count": 64,
      "outputs": [
        {
          "output_type": "stream",
          "name": "stdout",
          "text": [
            "This is functiom of class A\n",
            "This is function of class C\n"
          ]
        }
      ]
    },
    {
      "cell_type": "code",
      "source": [
        "d.func_A()\n",
        "d.func_D()\n"
      ],
      "metadata": {
        "colab": {
          "base_uri": "https://localhost:8080/"
        },
        "id": "LvomZcZKez4G",
        "outputId": "ed2fefbc-86aa-4506-e961-7d0a8462c76e"
      },
      "execution_count": 65,
      "outputs": [
        {
          "output_type": "stream",
          "name": "stdout",
          "text": [
            "This is functiom of class A\n",
            "this is function of class D\n"
          ]
        }
      ]
    },
    {
      "cell_type": "code",
      "source": [
        "class Person:\n",
        "  domain=\"Knight\"\n",
        "  def __init__(self,first,last):\n",
        "    self.first=first\n",
        "    self.last=last\n",
        "  def email(self):\n",
        "    self.email=self.last+\"@\"+self.domain+'.com'\n",
        "    print(self.email)"
      ],
      "metadata": {
        "id": "ug_92bwve4Tb"
      },
      "execution_count": 100,
      "outputs": []
    },
    {
      "cell_type": "code",
      "source": [
        "class Student(Person):\n",
        "  domain='rook'\n",
        "  def __init__(self,first,last,stream):\n",
        "    super().__init__(first,last)\n",
        "    #super() le constructor call garxa\n",
        "    self.stream=stream\n",
        ""
      ],
      "metadata": {
        "id": "IrKVVDjBfj8l"
      },
      "execution_count": 101,
      "outputs": []
    },
    {
      "cell_type": "code",
      "source": [
        "p=Person(\"rijan\",\"gurung\")\n",
        "s=Student(\"suyes\",\"rumal\",\"CSIT\")"
      ],
      "metadata": {
        "id": "CQB4uS-2f-A1"
      },
      "execution_count": 102,
      "outputs": []
    },
    {
      "cell_type": "code",
      "source": [
        "p.email()\n",
        "s.email()"
      ],
      "metadata": {
        "colab": {
          "base_uri": "https://localhost:8080/"
        },
        "id": "4SLsjKmagb4a",
        "outputId": "e589c485-7af8-4ebd-9f35-fabb89e67308"
      },
      "execution_count": 103,
      "outputs": [
        {
          "output_type": "stream",
          "name": "stdout",
          "text": [
            "gurung@Knight.com\n",
            "rumal@rook.com\n"
          ]
        }
      ]
    },
    {
      "cell_type": "code",
      "source": [
        "class undergrad(Student):\n",
        "  clubs=['Music','dance','fighting']\n",
        "  def join_club(self,club):\n",
        "    if club in self.clubs:\n",
        "      self.club=club\n",
        "      # return club"
      ],
      "metadata": {
        "id": "VAv9GdvMgpHZ"
      },
      "execution_count": 130,
      "outputs": []
    },
    {
      "cell_type": "code",
      "source": [
        "class postgrad(Student):\n",
        "  labs=['physuc','aerodynamic','robotic']\n",
        "  def join_lab(self,lab):\n",
        "    if lab in self.labs:\n",
        "      self.lab=lab"
      ],
      "metadata": {
        "id": "KXqwsQCgiwPh"
      },
      "execution_count": 131,
      "outputs": []
    },
    {
      "cell_type": "code",
      "source": [
        "student2=undergrad(\"rijan\",\"gurung\",\"mechanical\")\n",
        "student3=postgrad(\"suyes\",\"rumal\",\"electrical\")"
      ],
      "metadata": {
        "id": "uOr-s186i-gO"
      },
      "execution_count": 132,
      "outputs": []
    },
    {
      "cell_type": "code",
      "source": [
        "student3.email()"
      ],
      "metadata": {
        "colab": {
          "base_uri": "https://localhost:8080/"
        },
        "id": "dslQsnRfjSS2",
        "outputId": "eec0bb2d-db7e-413b-ca2b-42ee15761787"
      },
      "execution_count": 133,
      "outputs": [
        {
          "output_type": "stream",
          "name": "stdout",
          "text": [
            "rumal@rook.com\n"
          ]
        }
      ]
    },
    {
      "cell_type": "code",
      "source": [
        "student2.join_club('fighting')"
      ],
      "metadata": {
        "id": "OV-a0tm1kd8I"
      },
      "execution_count": 134,
      "outputs": []
    },
    {
      "cell_type": "code",
      "source": [
        "student2.club"
      ],
      "metadata": {
        "colab": {
          "base_uri": "https://localhost:8080/",
          "height": 36
        },
        "id": "FMztifb6knPj",
        "outputId": "1166d5e9-1304-40ad-a0f7-afd27ac83d26"
      },
      "execution_count": 135,
      "outputs": [
        {
          "output_type": "execute_result",
          "data": {
            "text/plain": [
              "'fighting'"
            ],
            "application/vnd.google.colaboratory.intrinsic+json": {
              "type": "string"
            }
          },
          "metadata": {},
          "execution_count": 135
        }
      ]
    },
    {
      "cell_type": "code",
      "source": [
        "student3.join_lab('robotic')"
      ],
      "metadata": {
        "id": "agaU818MkuE4"
      },
      "execution_count": 137,
      "outputs": []
    },
    {
      "cell_type": "code",
      "source": [
        "student3.lab"
      ],
      "metadata": {
        "colab": {
          "base_uri": "https://localhost:8080/",
          "height": 36
        },
        "id": "1MQoqGkLl4l3",
        "outputId": "6f3c36f1-afdd-4097-bf7b-54c97a2cf905"
      },
      "execution_count": 138,
      "outputs": [
        {
          "output_type": "execute_result",
          "data": {
            "text/plain": [
              "'robotic'"
            ],
            "application/vnd.google.colaboratory.intrinsic+json": {
              "type": "string"
            }
          },
          "metadata": {},
          "execution_count": 138
        }
      ]
    },
    {
      "cell_type": "markdown",
      "source": [
        "\n",
        "#abstract class"
      ],
      "metadata": {
        "id": "DhTUf9Mupa8t"
      }
    },
    {
      "cell_type": "code",
      "source": [
        "!pip install ColabTurtlePlus"
      ],
      "metadata": {
        "colab": {
          "base_uri": "https://localhost:8080/"
        },
        "id": "BEsT-4uYpTrI",
        "outputId": "a3c49f4f-a680-42e1-a5d9-e3a0cc810812"
      },
      "execution_count": 181,
      "outputs": [
        {
          "output_type": "stream",
          "name": "stdout",
          "text": [
            "Requirement already satisfied: ColabTurtlePlus in /usr/local/lib/python3.10/dist-packages (2.0.1)\n"
          ]
        }
      ]
    },
    {
      "cell_type": "code",
      "source": [
        "import ColabTurtlePlus.Turtle as turtle"
      ],
      "metadata": {
        "id": "dr0FkAlwl-e0"
      },
      "execution_count": 182,
      "outputs": []
    },
    {
      "cell_type": "code",
      "source": [
        "def initialize():\n",
        "  turtle.clearscreen()\n",
        "  turtle.setup(300,300)\n",
        "  turtle.color(255,20,100)\n",
        "  turtle.penup()\n",
        "  turtle.goto(+50,+100)\n",
        "  turtle.pendown()\n",
        "  turtle.right(90)\n",
        "  turtle.color(255,20,100)\n",
        "\n"
      ],
      "metadata": {
        "id": "NrZ9Tqrzpc7p"
      },
      "execution_count": 187,
      "outputs": []
    },
    {
      "cell_type": "code",
      "source": [
        "no_of_sides=6\n",
        "angle=360/no_of_sides\n",
        "initialize()\n",
        "for i in range(no_of_sides):\n",
        "  turtle.forward(100)\n",
        "  turtle.right(angle)"
      ],
      "metadata": {
        "colab": {
          "base_uri": "https://localhost:8080/",
          "height": 322
        },
        "id": "ym-ZaIsPpyKX",
        "outputId": "e74c1e82-82a8-425e-efc1-56f5ef554754"
      },
      "execution_count": 188,
      "outputs": [
        {
          "output_type": "display_data",
          "data": {
            "text/plain": [
              "<IPython.core.display.HTML object>"
            ],
            "text/html": [
              "\n",
              "      <svg width=\"300\" height=\"300\">  \n",
              "        <rect width=\"100%\" height=\"100%\" style=\"fill:white;stroke:;stroke-width:1\"/>\n",
              "        \n",
              "        \n",
              "        <line x1=\"200.0\" y1=\"50.0\" x2=\"200.0\" y2=\"150.0\" stroke-linecap=\"round\" style=\"stroke:rgb(255,20,100);stroke-width:1\" /><line x1=\"200.0\" y1=\"150.0\" x2=\"113.397\" y2=\"200.0\" stroke-linecap=\"round\" style=\"stroke:rgb(255,20,100);stroke-width:1\" /><line x1=\"113.397\" y1=\"200.0\" x2=\"26.794\" y2=\"150.0\" stroke-linecap=\"round\" style=\"stroke:rgb(255,20,100);stroke-width:1\" /><line x1=\"26.794\" y1=\"150.0\" x2=\"26.794\" y2=\"50.0\" stroke-linecap=\"round\" style=\"stroke:rgb(255,20,100);stroke-width:1\" /><line x1=\"26.794\" y1=\"50.0\" x2=\"113.397\" y2=\"-0.0\" stroke-linecap=\"round\" style=\"stroke:rgb(255,20,100);stroke-width:1\" /><line x1=\"113.397\" y1=\"-0.0\" x2=\"200.0\" y2=\"50.0\" stroke-linecap=\"round\" style=\"stroke:rgb(255,20,100);stroke-width:1\" />\n",
              "        \n",
              "        \n",
              "        <g id=\"classic\" visibility=\"visible\" transform=\"rotate(-60.0,200.0,50.0) translate(200.0, 50.0)\">\n",
              "<polygon points=\"-5,-4.5 0,-2.5 5,-4.5 0,4.5\" transform=\"skewX(0) scale(1,1)\" style=\"stroke:rgb(255,20,100);fill:rgb(255,20,100);stroke-width:1\" />\n",
              "<animateTransform id = \"one\" attributeName=\"transform\" \n",
              "                      type=\"scale\"\n",
              "                      from=\"1 1\" to=\"1 1\"\n",
              "                      begin=\"0s\" dur=\"0.01s\"\n",
              "                      repeatCount=\"1\"\n",
              "                      additive=\"sum\"\n",
              "                      fill=\"freeze\"\n",
              "                /><animateTransform attributeName=\"transform\"\n",
              "                    type=\"rotate\"\n",
              "                    from=\"0 0 0\" to =\"60.0 0 0\"\n",
              "                    begin=\"one.end\" dur=\"0.16666666666666666s\"\n",
              "                    repeatCount=\"1\"\n",
              "                    additive=\"sum\"\n",
              "                    fill=\"freeze\"\n",
              "                /></g>\n",
              "      </svg>\n",
              "    "
            ]
          },
          "metadata": {}
        }
      ]
    },
    {
      "cell_type": "code",
      "source": [
        "import math\n",
        "from abc import ABC, abstractmethod"
      ],
      "metadata": {
        "id": "qi0BOMNBqbYO"
      },
      "execution_count": 189,
      "outputs": []
    },
    {
      "cell_type": "code",
      "source": [
        "class Shape(ABC):\n",
        "  @abstractmethod\n",
        "  def area(self):\n",
        "    pass\n",
        "\n",
        "  @abstractmethod\n",
        "  def fraw_me(self):\n",
        "    pass\n",
        "\n",
        "  @staticmethod\n",
        "  def initialize():\n",
        "    turtle.clearscreen()\n",
        "    turtle.setup(300,300)\n",
        "    turtle.color(255,20,100)\n",
        "    turtle.penup()\n",
        "    turtle.got0(+50,+100)\n",
        "    turtle.penddown()\n",
        "    turtle.right(90)\n",
        "    turtle.color(255,20,100)"
      ],
      "metadata": {
        "id": "yBnO-lfhqoqD"
      },
      "execution_count": 191,
      "outputs": []
    },
    {
      "cell_type": "code",
      "source": [
        "class Circle(Shape):\n",
        "  def __init__(self,radius):\n",
        "    self.radius=radius\n",
        "\n",
        "  @property\n",
        "  def area(self):\n",
        "    return math.pi*math.pi*self.radius\n",
        "\n",
        "  def draw_me(self):\n",
        "    self.initialize()\n",
        "    turtle.penup()\n",
        "    turtle.goto(-100,0)\n",
        "    turtle.pendown()\n",
        "    turtle.circle(self.radius)"
      ],
      "metadata": {
        "id": "hOv1VGPGrF24"
      },
      "execution_count": 205,
      "outputs": []
    },
    {
      "cell_type": "code",
      "source": [
        "class Square(Shape):\n",
        "  def __init__(self,side,length):\n",
        "    self.length=side_length\n",
        "\n",
        "  @property\n",
        "  def area(self):\n",
        "    return self.length*self.length\n",
        "  def draw_me(self):\n",
        "    self.initialize()\n",
        "    no_of_sides=4\n",
        "    angle=360/no_of_sides\n",
        "    initialize()\n",
        "    for i in range(no_of_sides):\n",
        "      turtle.forwward(100)\n",
        "      turtle.right(angle)"
      ],
      "metadata": {
        "id": "wgqg8UvrruVH"
      },
      "execution_count": 214,
      "outputs": []
    },
    {
      "cell_type": "code",
      "source": [
        "c1= Circle(100)"
      ],
      "metadata": {
        "colab": {
          "base_uri": "https://localhost:8080/",
          "height": 141
        },
        "id": "RJZoVI6DsjTp",
        "outputId": "5603a1d5-6e8c-422f-d8e7-5cde50bacc65"
      },
      "execution_count": 215,
      "outputs": [
        {
          "output_type": "error",
          "ename": "TypeError",
          "evalue": "Can't instantiate abstract class Circle with abstract method fraw_me",
          "traceback": [
            "\u001b[0;31m---------------------------------------------------------------------------\u001b[0m",
            "\u001b[0;31mTypeError\u001b[0m                                 Traceback (most recent call last)",
            "\u001b[0;32m<ipython-input-215-e6fdeca762cc>\u001b[0m in \u001b[0;36m<cell line: 1>\u001b[0;34m()\u001b[0m\n\u001b[0;32m----> 1\u001b[0;31m \u001b[0mc1\u001b[0m\u001b[0;34m=\u001b[0m \u001b[0mCircle\u001b[0m\u001b[0;34m(\u001b[0m\u001b[0;36m100\u001b[0m\u001b[0;34m)\u001b[0m\u001b[0;34m\u001b[0m\u001b[0;34m\u001b[0m\u001b[0m\n\u001b[0m",
            "\u001b[0;31mTypeError\u001b[0m: Can't instantiate abstract class Circle with abstract method fraw_me"
          ]
        }
      ]
    },
    {
      "cell_type": "code",
      "source": [
        "c1.area"
      ],
      "metadata": {
        "colab": {
          "base_uri": "https://localhost:8080/",
          "height": 141
        },
        "id": "8i69wHmYtV4S",
        "outputId": "790d0a86-902e-4c5a-b591-91fc9aca86ac"
      },
      "execution_count": 209,
      "outputs": [
        {
          "output_type": "error",
          "ename": "NameError",
          "evalue": "name 'c1' is not defined",
          "traceback": [
            "\u001b[0;31m---------------------------------------------------------------------------\u001b[0m",
            "\u001b[0;31mNameError\u001b[0m                                 Traceback (most recent call last)",
            "\u001b[0;32m<ipython-input-209-521b4e641796>\u001b[0m in \u001b[0;36m<cell line: 1>\u001b[0;34m()\u001b[0m\n\u001b[0;32m----> 1\u001b[0;31m \u001b[0mc1\u001b[0m\u001b[0;34m.\u001b[0m\u001b[0marea\u001b[0m\u001b[0;34m\u001b[0m\u001b[0;34m\u001b[0m\u001b[0m\n\u001b[0m",
            "\u001b[0;31mNameError\u001b[0m: name 'c1' is not defined"
          ]
        }
      ]
    },
    {
      "cell_type": "code",
      "source": [
        "class Person:\n",
        "  domain=\"Knight\"\n",
        "  def __init__(self,first,last):\n",
        "    self.first=first\n",
        "    self.last=last\n",
        "  def email(self):\n",
        "    self.email=self.last+\"@\"+self.domain+'.com'\n",
        "    print(self.email)"
      ],
      "metadata": {
        "id": "-1WKue_it7xz"
      },
      "execution_count": 210,
      "outputs": []
    },
    {
      "cell_type": "code",
      "source": [
        "p1=Person(\"rijan\",\"gurung\")"
      ],
      "metadata": {
        "id": "Ny4eyCmZvzMC"
      },
      "execution_count": 211,
      "outputs": []
    },
    {
      "cell_type": "code",
      "source": [
        "p1.email()"
      ],
      "metadata": {
        "colab": {
          "base_uri": "https://localhost:8080/"
        },
        "id": "M-pWQvycv2y2",
        "outputId": "d2484e60-bfbf-4bd1-b8d7-6d0d268e3b3e"
      },
      "execution_count": 212,
      "outputs": [
        {
          "output_type": "stream",
          "name": "stdout",
          "text": [
            "gurung@Knight.com\n"
          ]
        }
      ]
    },
    {
      "cell_type": "code",
      "source": [
        "str(p1)"
      ],
      "metadata": {
        "colab": {
          "base_uri": "https://localhost:8080/",
          "height": 36
        },
        "id": "pCVzZDXFv4fH",
        "outputId": "85726d8e-33b2-4676-b4e7-d9e1d30100af"
      },
      "execution_count": 213,
      "outputs": [
        {
          "output_type": "execute_result",
          "data": {
            "text/plain": [
              "'<__main__.Person object at 0x7ee612780280>'"
            ],
            "application/vnd.google.colaboratory.intrinsic+json": {
              "type": "string"
            }
          },
          "metadata": {},
          "execution_count": 213
        }
      ]
    },
    {
      "cell_type": "code",
      "source": [
        "class CenToKelvin:\n",
        "  def __init__(self,centigrade):\n",
        "    self.centigrade=centigrade\n",
        "    self.kelvin=self.centigrade+273.15\n",
        "  def __add__(self,other_obj):\n",
        "    return self.kelvin+other_obj.kelvin"
      ],
      "metadata": {
        "id": "rTIyty47v6UN"
      },
      "execution_count": 228,
      "outputs": []
    },
    {
      "cell_type": "code",
      "source": [
        "t1=CenToKelvin(12)\n",
        "t2=CenToKelvin(15)"
      ],
      "metadata": {
        "id": "mryyXUCwxqkB"
      },
      "execution_count": 229,
      "outputs": []
    },
    {
      "cell_type": "code",
      "source": [
        "t1.centigrade"
      ],
      "metadata": {
        "colab": {
          "base_uri": "https://localhost:8080/"
        },
        "id": "Ay6SiRW0xxTP",
        "outputId": "cc38e831-0157-4a8d-d113-5547c2757f96"
      },
      "execution_count": 230,
      "outputs": [
        {
          "output_type": "execute_result",
          "data": {
            "text/plain": [
              "12"
            ]
          },
          "metadata": {},
          "execution_count": 230
        }
      ]
    },
    {
      "cell_type": "code",
      "source": [
        "t2.kelvin"
      ],
      "metadata": {
        "colab": {
          "base_uri": "https://localhost:8080/"
        },
        "id": "eFe6rTwwxyx7",
        "outputId": "6c439606-be40-4f3b-e8cf-d12965a1d2d8"
      },
      "execution_count": 231,
      "outputs": [
        {
          "output_type": "execute_result",
          "data": {
            "text/plain": [
              "288.15"
            ]
          },
          "metadata": {},
          "execution_count": 231
        }
      ]
    },
    {
      "cell_type": "code",
      "source": [
        "t1+t2"
      ],
      "metadata": {
        "colab": {
          "base_uri": "https://localhost:8080/"
        },
        "id": "nlCtqQqpx1M8",
        "outputId": "804f1c6f-c8a8-4d1e-c2c1-7c3af33ea2ce"
      },
      "execution_count": 232,
      "outputs": [
        {
          "output_type": "execute_result",
          "data": {
            "text/plain": [
              "573.3"
            ]
          },
          "metadata": {},
          "execution_count": 232
        }
      ]
    },
    {
      "cell_type": "code",
      "source": [
        "t1.kelvin"
      ],
      "metadata": {
        "colab": {
          "base_uri": "https://localhost:8080/"
        },
        "id": "XZvB6Ceix2Y0",
        "outputId": "5b6a3a28-72ca-47b4-d04f-02b320d43b9f"
      },
      "execution_count": 221,
      "outputs": [
        {
          "output_type": "execute_result",
          "data": {
            "text/plain": [
              "285.15"
            ]
          },
          "metadata": {},
          "execution_count": 221
        }
      ]
    },
    {
      "cell_type": "code",
      "source": [
        "t1.kelvin+t2.kelvin"
      ],
      "metadata": {
        "colab": {
          "base_uri": "https://localhost:8080/"
        },
        "id": "M4P8T7Jmx6lL",
        "outputId": "97efcdc0-e910-4a7b-e0a0-3dc5d117220d"
      },
      "execution_count": 223,
      "outputs": [
        {
          "output_type": "execute_result",
          "data": {
            "text/plain": [
              "573.3"
            ]
          },
          "metadata": {},
          "execution_count": 223
        }
      ]
    },
    {
      "cell_type": "code",
      "source": [],
      "metadata": {
        "id": "70izs-4ux89N"
      },
      "execution_count": 232,
      "outputs": []
    },
    {
      "cell_type": "code",
      "source": [],
      "metadata": {
        "id": "E-3abNhuyXjT"
      },
      "execution_count": 227,
      "outputs": []
    }
  ]
}