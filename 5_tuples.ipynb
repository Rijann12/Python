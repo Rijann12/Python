{
  "nbformat": 4,
  "nbformat_minor": 0,
  "metadata": {
    "colab": {
      "provenance": [],
      "authorship_tag": "ABX9TyPrdP6MDhwLR4ggT69cIphr",
      "include_colab_link": true
    },
    "kernelspec": {
      "name": "python3",
      "display_name": "Python 3"
    },
    "language_info": {
      "name": "python"
    }
  },
  "cells": [
    {
      "cell_type": "markdown",
      "metadata": {
        "id": "view-in-github",
        "colab_type": "text"
      },
      "source": [
        "<a href=\"https://colab.research.google.com/github/Rijann12/Pythonquiz/blob/main/5_tuples.ipynb\" target=\"_parent\"><img src=\"https://colab.research.google.com/assets/colab-badge.svg\" alt=\"Open In Colab\"/></a>"
      ]
    },
    {
      "cell_type": "markdown",
      "source": [],
      "metadata": {
        "id": "Up4inB4gjqYd"
      }
    },
    {
      "cell_type": "markdown",
      "source": [
        "Basics"
      ],
      "metadata": {
        "id": "PxNgvaBAjsfH"
      }
    },
    {
      "cell_type": "code",
      "execution_count": null,
      "metadata": {
        "colab": {
          "base_uri": "https://localhost:8080/"
        },
        "id": "p-xqk2FAcgnf",
        "outputId": "dfe161b7-cf49-48ae-f10b-67e9f1a6dace"
      },
      "outputs": [
        {
          "output_type": "execute_result",
          "data": {
            "text/plain": [
              "tuple"
            ]
          },
          "metadata": {},
          "execution_count": 9
        }
      ],
      "source": [
        "languages=('C','C++','Python','Pascal','Php')\n",
        "type(languages)\n"
      ]
    },
    {
      "cell_type": "code",
      "source": [
        "len(languages)\n"
      ],
      "metadata": {
        "colab": {
          "base_uri": "https://localhost:8080/"
        },
        "id": "A1J3FrqYdyEI",
        "outputId": "c6f44982-a8c3-4412-db69-adc8f996e29f"
      },
      "execution_count": null,
      "outputs": [
        {
          "output_type": "execute_result",
          "data": {
            "text/plain": [
              "5"
            ]
          },
          "metadata": {},
          "execution_count": 10
        }
      ]
    },
    {
      "cell_type": "code",
      "source": [
        "languages[-2:]"
      ],
      "metadata": {
        "colab": {
          "base_uri": "https://localhost:8080/"
        },
        "id": "mheBJni2d2eK",
        "outputId": "8e5d6e3c-d1b1-4c61-8cba-1c3f6b279d6e"
      },
      "execution_count": null,
      "outputs": [
        {
          "output_type": "execute_result",
          "data": {
            "text/plain": [
              "('Pascal', 'Php')"
            ]
          },
          "metadata": {},
          "execution_count": 11
        }
      ]
    },
    {
      "cell_type": "code",
      "source": [
        "'Rust' in languages"
      ],
      "metadata": {
        "colab": {
          "base_uri": "https://localhost:8080/"
        },
        "id": "PLLDw3RPeXpd",
        "outputId": "fe70af94-5455-4470-af37-1389c5cdac2d"
      },
      "execution_count": null,
      "outputs": [
        {
          "output_type": "execute_result",
          "data": {
            "text/plain": [
              "False"
            ]
          },
          "metadata": {},
          "execution_count": 15
        }
      ]
    },
    {
      "cell_type": "code",
      "source": [
        "'Rust' not in languages"
      ],
      "metadata": {
        "colab": {
          "base_uri": "https://localhost:8080/"
        },
        "id": "VV63K9cSehsp",
        "outputId": "6a991edd-639c-4329-f048-689283f0edf2"
      },
      "execution_count": null,
      "outputs": [
        {
          "output_type": "execute_result",
          "data": {
            "text/plain": [
              "True"
            ]
          },
          "metadata": {},
          "execution_count": 14
        }
      ]
    },
    {
      "cell_type": "code",
      "source": [
        "languages_list=['C','C++','Python','Pascal','Php']\n",
        "langugaes_list.append('Rust')"
      ],
      "metadata": {
        "colab": {
          "base_uri": "https://localhost:8080/",
          "height": 158
        },
        "id": "1lpAzwSdewNc",
        "outputId": "92761a71-8856-41db-c4f7-e9b70454fa2f"
      },
      "execution_count": null,
      "outputs": [
        {
          "output_type": "error",
          "ename": "NameError",
          "evalue": "name 'langugaes_list' is not defined",
          "traceback": [
            "\u001b[0;31m---------------------------------------------------------------------------\u001b[0m",
            "\u001b[0;31mNameError\u001b[0m                                 Traceback (most recent call last)",
            "\u001b[0;32m<ipython-input-16-947fa44d5490>\u001b[0m in \u001b[0;36m<cell line: 2>\u001b[0;34m()\u001b[0m\n\u001b[1;32m      1\u001b[0m \u001b[0mlanguages_list\u001b[0m\u001b[0;34m=\u001b[0m\u001b[0;34m[\u001b[0m\u001b[0;34m'C'\u001b[0m\u001b[0;34m,\u001b[0m\u001b[0;34m'C++'\u001b[0m\u001b[0;34m,\u001b[0m\u001b[0;34m'Python'\u001b[0m\u001b[0;34m,\u001b[0m\u001b[0;34m'Pascal'\u001b[0m\u001b[0;34m,\u001b[0m\u001b[0;34m'Php'\u001b[0m\u001b[0;34m]\u001b[0m\u001b[0;34m\u001b[0m\u001b[0;34m\u001b[0m\u001b[0m\n\u001b[0;32m----> 2\u001b[0;31m \u001b[0mlangugaes_list\u001b[0m\u001b[0;34m.\u001b[0m\u001b[0mappend\u001b[0m\u001b[0;34m(\u001b[0m\u001b[0;34m'Rust'\u001b[0m\u001b[0;34m)\u001b[0m\u001b[0;34m\u001b[0m\u001b[0;34m\u001b[0m\u001b[0m\n\u001b[0m",
            "\u001b[0;31mNameError\u001b[0m: name 'langugaes_list' is not defined"
          ]
        }
      ]
    },
    {
      "cell_type": "code",
      "source": [
        "languages\n",
        "('C','C++','Python','Pascal','Php')\n",
        "languages = languages + ('Rust',)\n",
        "languages"
      ],
      "metadata": {
        "colab": {
          "base_uri": "https://localhost:8080/"
        },
        "id": "_EbLZF56fEtH",
        "outputId": "7d5e2f00-2999-42c1-f20e-399099622cd3"
      },
      "execution_count": null,
      "outputs": [
        {
          "output_type": "execute_result",
          "data": {
            "text/plain": [
              "('Perl',\n",
              " 'Perl',\n",
              " 'Perl',\n",
              " 'C',\n",
              " 'C++',\n",
              " 'Python',\n",
              " 'Pascal',\n",
              " 'Php',\n",
              " 'Rust',\n",
              " 'Rust',\n",
              " 'Rust',\n",
              " 'Rust',\n",
              " 'Rust',\n",
              " 'Rust',\n",
              " 'Rust')"
            ]
          },
          "metadata": {},
          "execution_count": 25
        }
      ]
    },
    {
      "cell_type": "code",
      "source": [
        "languages\n",
        "('C','C++','Python','Pascal','Php')\n",
        "languages=('Perl',)+languages\n",
        "languages"
      ],
      "metadata": {
        "colab": {
          "base_uri": "https://localhost:8080/"
        },
        "id": "Mo4MFGzlfnUQ",
        "outputId": "68805191-66a4-4273-e9a5-f268d2a6d5be"
      },
      "execution_count": null,
      "outputs": [
        {
          "output_type": "execute_result",
          "data": {
            "text/plain": [
              "('Perl',\n",
              " 'Perl',\n",
              " 'Perl',\n",
              " 'C',\n",
              " 'C++',\n",
              " 'Python',\n",
              " 'Pascal',\n",
              " 'Php',\n",
              " 'Rust',\n",
              " 'Rust',\n",
              " 'Rust',\n",
              " 'Rust')"
            ]
          },
          "metadata": {},
          "execution_count": 22
        }
      ]
    },
    {
      "cell_type": "code",
      "source": [
        "numbers=(2,3,4)\n",
        "(two,three,four)=numbers\n",
        "print(two)\n",
        "print(three)\n",
        "print(four)\n"
      ],
      "metadata": {
        "colab": {
          "base_uri": "https://localhost:8080/"
        },
        "id": "tQIHam_if6dw",
        "outputId": "389bbecc-b80f-428f-967b-a272da4e2dbe"
      },
      "execution_count": null,
      "outputs": [
        {
          "output_type": "stream",
          "name": "stdout",
          "text": [
            "2\n",
            "3\n",
            "4\n"
          ]
        }
      ]
    },
    {
      "cell_type": "code",
      "source": [
        "numbers =(2,3,4,55,66,99,88,456,789)\n",
        "(num1,*num2,num3) = numbers\n",
        "print(num1)\n",
        "print(num2)\n",
        "print(num3)"
      ],
      "metadata": {
        "colab": {
          "base_uri": "https://localhost:8080/"
        },
        "id": "gunNjgsXgSvL",
        "outputId": "f6c85550-5e9b-4ca6-c1f1-1409e1ab77a1"
      },
      "execution_count": null,
      "outputs": [
        {
          "output_type": "stream",
          "name": "stdout",
          "text": [
            "2\n",
            "[3, 4, 55, 66, 99, 88, 456]\n",
            "789\n"
          ]
        }
      ]
    },
    {
      "cell_type": "code",
      "source": [
        "numbers =(2,3,4,55,66,99,88,456,789)\n",
        "num1,num2,*num3 = numbers\n"
      ],
      "metadata": {
        "id": "dMnxq9K5hOKF"
      },
      "execution_count": null,
      "outputs": []
    },
    {
      "cell_type": "markdown",
      "source": [
        "looping with tuples"
      ],
      "metadata": {
        "id": "8FTr4e2DermB"
      }
    },
    {
      "cell_type": "code",
      "source": [
        "#looping with tuples\n",
        "coelho=('Brida','Aleph','Veronica','Zahir')\n",
        "for i in coelho:\n",
        "  print(i)"
      ],
      "metadata": {
        "colab": {
          "base_uri": "https://localhost:8080/"
        },
        "id": "tr_UCJC3hoZt",
        "outputId": "7a5a5972-8cdb-4dba-dc10-49987129cbc0"
      },
      "execution_count": null,
      "outputs": [
        {
          "output_type": "stream",
          "name": "stdout",
          "text": [
            "Brida\n",
            "Aleph\n",
            "Veronica\n",
            "Zahir\n"
          ]
        }
      ]
    },
    {
      "cell_type": "markdown",
      "source": [
        "joining tuples"
      ],
      "metadata": {
        "id": "ngaBVFrYi_EX"
      }
    },
    {
      "cell_type": "code",
      "source": [
        "odd=(3,5,7)\n",
        "even=(2,6,8)\n",
        "numbers = odd+even\n",
        "print(numbers)"
      ],
      "metadata": {
        "colab": {
          "base_uri": "https://localhost:8080/"
        },
        "id": "MQHJTjaMiACG",
        "outputId": "e6497e78-8f91-4cae-f255-c08973ca57c0"
      },
      "execution_count": null,
      "outputs": [
        {
          "output_type": "stream",
          "name": "stdout",
          "text": [
            "(3, 5, 7, 2, 6, 8)\n"
          ]
        }
      ]
    },
    {
      "cell_type": "code",
      "source": [
        "multiplication =odd*2\n",
        "print(multiplication)"
      ],
      "metadata": {
        "colab": {
          "base_uri": "https://localhost:8080/"
        },
        "id": "Y_5TKMiJiOA1",
        "outputId": "0ab700a8-47b3-4f8f-a862-a8274bcfebd0"
      },
      "execution_count": null,
      "outputs": [
        {
          "output_type": "stream",
          "name": "stdout",
          "text": [
            "(3, 5, 7, 3, 5, 7)\n"
          ]
        }
      ]
    },
    {
      "cell_type": "markdown",
      "source": [
        "tuples methods"
      ],
      "metadata": {
        "id": "IdJKosQ3jDLf"
      }
    },
    {
      "cell_type": "code",
      "source": [
        "numbers=(2,22,3,33,4,55,8,2,6,9,2,4,3,1,4,2,5,6,3,2,1,2,66)\n",
        "numbers.count(2)"
      ],
      "metadata": {
        "colab": {
          "base_uri": "https://localhost:8080/"
        },
        "id": "iBGUwGZliujI",
        "outputId": "70aed8d7-58af-4f77-8f59-71df58205701"
      },
      "execution_count": null,
      "outputs": [
        {
          "output_type": "execute_result",
          "data": {
            "text/plain": [
              "6"
            ]
          },
          "metadata": {},
          "execution_count": 45
        }
      ]
    },
    {
      "cell_type": "code",
      "source": [
        "sum(numbers)"
      ],
      "metadata": {
        "colab": {
          "base_uri": "https://localhost:8080/"
        },
        "id": "cSXbeseWjTdF",
        "outputId": "710a1be0-5e45-4d0f-f387-736cd6a74fee"
      },
      "execution_count": null,
      "outputs": [
        {
          "output_type": "execute_result",
          "data": {
            "text/plain": [
              "245"
            ]
          },
          "metadata": {},
          "execution_count": 47
        }
      ]
    },
    {
      "cell_type": "code",
      "source": [
        "numbers.index(33)"
      ],
      "metadata": {
        "colab": {
          "base_uri": "https://localhost:8080/"
        },
        "id": "IoYusgiujRnK",
        "outputId": "f73c3824-86c9-4aea-8d75-e370b1e34396"
      },
      "execution_count": null,
      "outputs": [
        {
          "output_type": "execute_result",
          "data": {
            "text/plain": [
              "3"
            ]
          },
          "metadata": {},
          "execution_count": 46
        }
      ]
    },
    {
      "cell_type": "code",
      "source": [
        "min(numbers)"
      ],
      "metadata": {
        "colab": {
          "base_uri": "https://localhost:8080/"
        },
        "id": "KR1wyA5ZjXJD",
        "outputId": "3886abe7-5d75-47db-a295-ccce3a771ba9"
      },
      "execution_count": null,
      "outputs": [
        {
          "output_type": "execute_result",
          "data": {
            "text/plain": [
              "1"
            ]
          },
          "metadata": {},
          "execution_count": 48
        }
      ]
    },
    {
      "cell_type": "code",
      "source": [
        "#Average\n",
        "sum(numbers)/len(numbers)"
      ],
      "metadata": {
        "colab": {
          "base_uri": "https://localhost:8080/"
        },
        "id": "02hfDdNvja3w",
        "outputId": "8d5ac94b-e97a-4471-df80-dbec8e37b38c"
      },
      "execution_count": null,
      "outputs": [
        {
          "output_type": "execute_result",
          "data": {
            "text/plain": [
              "10.652173913043478"
            ]
          },
          "metadata": {},
          "execution_count": 49
        }
      ]
    },
    {
      "cell_type": "code",
      "source": [],
      "metadata": {
        "id": "9wh9gbFUjkT1"
      },
      "execution_count": null,
      "outputs": []
    }
  ]
}