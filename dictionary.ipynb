{
  "nbformat": 4,
  "nbformat_minor": 0,
  "metadata": {
    "colab": {
      "provenance": [],
      "authorship_tag": "ABX9TyP8k5dqItvvLgxJV5jx+4Kq",
      "include_colab_link": true
    },
    "kernelspec": {
      "name": "python3",
      "display_name": "Python 3"
    },
    "language_info": {
      "name": "python"
    }
  },
  "cells": [
    {
      "cell_type": "markdown",
      "metadata": {
        "id": "view-in-github",
        "colab_type": "text"
      },
      "source": [
        "<a href=\"https://colab.research.google.com/github/Rijann12/Pythonquiz/blob/main/dictionary.ipynb\" target=\"_parent\"><img src=\"https://colab.research.google.com/assets/colab-badge.svg\" alt=\"Open In Colab\"/></a>"
      ]
    },
    {
      "cell_type": "markdown",
      "source": [
        "#basics\n"
      ],
      "metadata": {
        "id": "iYtBgiBjubys"
      }
    },
    {
      "cell_type": "code",
      "execution_count": null,
      "metadata": {
        "colab": {
          "base_uri": "https://localhost:8080/"
        },
        "id": "DSKp-Nk3uOJy",
        "outputId": "b1beeeff-6c67-4952-896f-86da5c112730"
      },
      "outputs": [
        {
          "output_type": "stream",
          "name": "stdout",
          "text": [
            "{'name': 'Karanli Blues', 'writer': 'Buddhi Sagar', 'Rating': 4.2}\n"
          ]
        }
      ],
      "source": [
        "novel={'name':'Karanli Blues',\n",
        "       'writer':\"Buddhi Sagar\",\n",
        "       'Rating':4.2,}\n",
        "print(novel)"
      ]
    },
    {
      "cell_type": "code",
      "source": [
        "novel={'name':'Karanli Blues',\n",
        "       'writer':\"Buddhi Sagar\",\n",
        "       'Rating':4.2,\n",
        "       'Rating':4.3}\n",
        "#euta key ko euta matra value hunxa ra latest value matra dekhauxa\n",
        "print(novel)"
      ],
      "metadata": {
        "colab": {
          "base_uri": "https://localhost:8080/"
        },
        "id": "xGrZu5w0vD5-",
        "outputId": "04310e04-061a-41d3-a1ee-948e69651439"
      },
      "execution_count": null,
      "outputs": [
        {
          "output_type": "stream",
          "name": "stdout",
          "text": [
            "{'name': 'Karanli Blues', 'writer': 'Buddhi Sagar', 'Rating': 4.3}\n"
          ]
        }
      ]
    },
    {
      "cell_type": "markdown",
      "source": [
        "#accessing items in the dictionary\n"
      ],
      "metadata": {
        "id": "BmLiQxg5vXUx"
      }
    },
    {
      "cell_type": "code",
      "source": [
        "writer ={\"name\":\"Mukarmi\",\n",
        "         \"languages\":\"Japanese\",\n",
        "         \"books\":[\"1084\",\"Kafka on the Shore\"],\n",
        "         \"age\":\"75\",\n",
        "         \"genre\":(\"fiction\"),\n",
        "         \"average rating\":4.2,\n",
        "         \"Active\":True\n",
        "         }\n",
        "print(writer)\n",
        "writer['books']"
      ],
      "metadata": {
        "colab": {
          "base_uri": "https://localhost:8080/"
        },
        "id": "JSdaQts5vUUP",
        "outputId": "38e05121-39f1-4b48-d69f-42ec0df5932d"
      },
      "execution_count": null,
      "outputs": [
        {
          "output_type": "stream",
          "name": "stdout",
          "text": [
            "{'name': 'Mukarmi', 'languages': 'Japanese', 'books': ['1084', 'Kafka on the Shore'], 'age': '75', 'genre': 'fiction', 'average rating': 4.2, 'Active': True}\n"
          ]
        },
        {
          "output_type": "execute_result",
          "data": {
            "text/plain": [
              "['1084', 'Kafka on the Shore']"
            ]
          },
          "metadata": {},
          "execution_count": 9
        }
      ]
    },
    {
      "cell_type": "code",
      "source": [
        "writer.get('Active')"
      ],
      "metadata": {
        "colab": {
          "base_uri": "https://localhost:8080/"
        },
        "id": "rKIs1YnWwbM8",
        "outputId": "2633d29d-4211-46ff-8b23-c669c77e9e06"
      },
      "execution_count": null,
      "outputs": [
        {
          "output_type": "execute_result",
          "data": {
            "text/plain": [
              "True"
            ]
          },
          "metadata": {},
          "execution_count": 10
        }
      ]
    },
    {
      "cell_type": "code",
      "source": [
        "writer.keys()\n"
      ],
      "metadata": {
        "colab": {
          "base_uri": "https://localhost:8080/"
        },
        "id": "vRMEo_4OwfqW",
        "outputId": "f7318a15-5d75-4b47-d2d5-60b6a4c22387"
      },
      "execution_count": null,
      "outputs": [
        {
          "output_type": "execute_result",
          "data": {
            "text/plain": [
              "dict_keys(['name', 'languages', 'books', 'age', 'genre', 'average rating', 'Active'])"
            ]
          },
          "metadata": {},
          "execution_count": 11
        }
      ]
    },
    {
      "cell_type": "code",
      "source": [
        "writer.values()"
      ],
      "metadata": {
        "colab": {
          "base_uri": "https://localhost:8080/"
        },
        "id": "cNwlEzfDwjAf",
        "outputId": "40e0938b-c29f-4da0-e7ac-a95827acf61e"
      },
      "execution_count": null,
      "outputs": [
        {
          "output_type": "execute_result",
          "data": {
            "text/plain": [
              "dict_values(['Mukarmi', 'Japanese', ['1084', 'Kafka on the Shore'], '75', 'fiction', 4.2, True])"
            ]
          },
          "metadata": {},
          "execution_count": 12
        }
      ]
    },
    {
      "cell_type": "code",
      "source": [
        "writer.items()"
      ],
      "metadata": {
        "colab": {
          "base_uri": "https://localhost:8080/"
        },
        "id": "0rjhTWtmwods",
        "outputId": "d0a8af17-abf7-4698-a48c-5a0989587461"
      },
      "execution_count": null,
      "outputs": [
        {
          "output_type": "execute_result",
          "data": {
            "text/plain": [
              "dict_items([('name', 'Mukarmi'), ('languages', 'Japanese'), ('books', ['1084', 'Kafka on the Shore']), ('age', '75'), ('genre', 'fiction'), ('average rating', 4.2), ('Active', True)])"
            ]
          },
          "metadata": {},
          "execution_count": 13
        }
      ]
    },
    {
      "cell_type": "code",
      "source": [
        "#key check garxa ra xa vane  true dinxa value check garyo vane false dinxa\n",
        "'Mukarmi' in writer"
      ],
      "metadata": {
        "colab": {
          "base_uri": "https://localhost:8080/"
        },
        "id": "vXli7BoEwwsp",
        "outputId": "8c645149-b3d0-4410-801c-50d80ba7c540"
      },
      "execution_count": null,
      "outputs": [
        {
          "output_type": "execute_result",
          "data": {
            "text/plain": [
              "False"
            ]
          },
          "metadata": {},
          "execution_count": 15
        }
      ]
    },
    {
      "cell_type": "markdown",
      "source": [
        "#change,add and remove"
      ],
      "metadata": {
        "id": "PsJ-jbJkxJtK"
      }
    },
    {
      "cell_type": "code",
      "source": [
        "watch={'Price':44,\n",
        "       \"In Store\":True,\n",
        "       \"Total Items\":24,\n",
        "       \"Discount\":False\n",
        "      }\n",
        "print(watch)"
      ],
      "metadata": {
        "colab": {
          "base_uri": "https://localhost:8080/"
        },
        "id": "tlyJxelMw11I",
        "outputId": "4d1842f9-f3f6-49c7-e782-f8480d970b81"
      },
      "execution_count": null,
      "outputs": [
        {
          "output_type": "stream",
          "name": "stdout",
          "text": [
            "{'Price': 44, 'In Store': True, 'Total Items': 24, 'Discount': False}\n"
          ]
        }
      ]
    },
    {
      "cell_type": "code",
      "source": [
        "#value change garna milxa\n",
        "watch['Discount']=True\n",
        "print(watch)"
      ],
      "metadata": {
        "colab": {
          "base_uri": "https://localhost:8080/"
        },
        "id": "aT5LsmWgxhOj",
        "outputId": "6e2e5e00-05f7-4e6c-fe85-1bec8053291d"
      },
      "execution_count": null,
      "outputs": [
        {
          "output_type": "stream",
          "name": "stdout",
          "text": [
            "{'Price': 44, 'In Store': True, 'Total Items': 24, 'Discount': True}\n"
          ]
        }
      ]
    },
    {
      "cell_type": "code",
      "source": [
        "watch.update({'Price':55})\n",
        "print(watch)"
      ],
      "metadata": {
        "colab": {
          "base_uri": "https://localhost:8080/"
        },
        "id": "RCsug_Pqxxlc",
        "outputId": "4ab67fbf-e04c-40b2-efb9-5b7e39723a87"
      },
      "execution_count": null,
      "outputs": [
        {
          "output_type": "stream",
          "name": "stdout",
          "text": [
            "{'Price': 55, 'In Store': True, 'Total Items': 24, 'Discount': True}\n"
          ]
        }
      ]
    },
    {
      "cell_type": "code",
      "source": [
        "#color vanne key add gareko\n",
        "colors=('Black','Brown')\n",
        "watch.update({'colors':colors})\n",
        "print(watch)\n"
      ],
      "metadata": {
        "colab": {
          "base_uri": "https://localhost:8080/"
        },
        "id": "iv2gMvOPx5aT",
        "outputId": "13e58c15-32e5-4671-c94f-500eafbac300"
      },
      "execution_count": null,
      "outputs": [
        {
          "output_type": "stream",
          "name": "stdout",
          "text": [
            "{'Price': 55, 'In Store': True, 'Total Items': 24, 'Discount': True, 'colors': ('Black', 'Brown')}\n"
          ]
        }
      ]
    },
    {
      "cell_type": "code",
      "source": [
        "watch.popitem()"
      ],
      "metadata": {
        "colab": {
          "base_uri": "https://localhost:8080/"
        },
        "id": "7arl-o1-yU2M",
        "outputId": "7a99fffa-3b56-4b37-c16c-3a845a515189"
      },
      "execution_count": null,
      "outputs": [
        {
          "output_type": "execute_result",
          "data": {
            "text/plain": [
              "('colors', ('Black', 'Brown'))"
            ]
          },
          "metadata": {},
          "execution_count": 21
        }
      ]
    },
    {
      "cell_type": "code",
      "source": [
        "watch\n"
      ],
      "metadata": {
        "colab": {
          "base_uri": "https://localhost:8080/"
        },
        "id": "jLkRHH-Lyd3x",
        "outputId": "7ed86f97-5d0e-4369-9b29-9d2b1dd78f55"
      },
      "execution_count": null,
      "outputs": [
        {
          "output_type": "execute_result",
          "data": {
            "text/plain": [
              "{'Price': 55, 'In Store': True, 'Total Items': 24, 'Discount': True}"
            ]
          },
          "metadata": {},
          "execution_count": 22
        }
      ]
    },
    {
      "cell_type": "code",
      "source": [
        "del watch['Discount']\n",
        "print(watch)"
      ],
      "metadata": {
        "colab": {
          "base_uri": "https://localhost:8080/"
        },
        "id": "s0u-MYGbyhXE",
        "outputId": "2cf557ff-ff9c-4e71-eed6-fc89f9ac0c9d"
      },
      "execution_count": null,
      "outputs": [
        {
          "output_type": "stream",
          "name": "stdout",
          "text": [
            "{'Price': 55, 'In Store': True, 'Total Items': 24}\n"
          ]
        }
      ]
    },
    {
      "cell_type": "code",
      "source": [
        "watch.clear()\n",
        "print(watch)"
      ],
      "metadata": {
        "colab": {
          "base_uri": "https://localhost:8080/"
        },
        "id": "f-8WtGkhypR8",
        "outputId": "1aacf695-641e-49c0-82dd-f4b16ca37d30"
      },
      "execution_count": null,
      "outputs": [
        {
          "output_type": "stream",
          "name": "stdout",
          "text": [
            "{}\n"
          ]
        }
      ]
    },
    {
      "cell_type": "code",
      "source": [
        "del watch\n",
        "print(watch)"
      ],
      "metadata": {
        "colab": {
          "base_uri": "https://localhost:8080/",
          "height": 158
        },
        "id": "f312iFy4yxIN",
        "outputId": "27039489-d307-446f-c33a-6536479ff4ef"
      },
      "execution_count": null,
      "outputs": [
        {
          "output_type": "error",
          "ename": "NameError",
          "evalue": "name 'watch' is not defined",
          "traceback": [
            "\u001b[0;31m---------------------------------------------------------------------------\u001b[0m",
            "\u001b[0;31mNameError\u001b[0m                                 Traceback (most recent call last)",
            "\u001b[0;32m<ipython-input-26-08467f7fc9e7>\u001b[0m in \u001b[0;36m<cell line: 1>\u001b[0;34m()\u001b[0m\n\u001b[0;32m----> 1\u001b[0;31m \u001b[0;32mdel\u001b[0m \u001b[0mwatch\u001b[0m\u001b[0;34m\u001b[0m\u001b[0;34m\u001b[0m\u001b[0m\n\u001b[0m\u001b[1;32m      2\u001b[0m \u001b[0mprint\u001b[0m\u001b[0;34m(\u001b[0m\u001b[0mwatch\u001b[0m\u001b[0;34m)\u001b[0m\u001b[0;34m\u001b[0m\u001b[0;34m\u001b[0m\u001b[0m\n",
            "\u001b[0;31mNameError\u001b[0m: name 'watch' is not defined"
          ]
        }
      ]
    },
    {
      "cell_type": "markdown",
      "source": [
        "#looping trough dictionary"
      ],
      "metadata": {
        "id": "p3edYDHDy-hY"
      }
    },
    {
      "cell_type": "code",
      "source": [
        "writer ={\"name\":\"Mukarmi\",\n",
        "         \"languages\":\"Japanese\",\n",
        "         \"books\":[\"1084\",\"Kafka on the Shore\"],\n",
        "         \"age\":\"75\",\n",
        "         \"genre\":(\"fiction\"),\n",
        "         \"average rating\":4.2,\n",
        "         \"Active\":True\n",
        "         }"
      ],
      "metadata": {
        "id": "1jBhl73Ny9qb"
      },
      "execution_count": null,
      "outputs": []
    },
    {
      "cell_type": "code",
      "source": [
        "for i in writer:\n",
        "  print(i)"
      ],
      "metadata": {
        "colab": {
          "base_uri": "https://localhost:8080/"
        },
        "id": "a4wanm39y9Z4",
        "outputId": "f8cb9632-b9b9-402b-d309-2c9713a357fe"
      },
      "execution_count": null,
      "outputs": [
        {
          "output_type": "stream",
          "name": "stdout",
          "text": [
            "name\n",
            "languages\n",
            "books\n",
            "age\n",
            "genre\n",
            "average rating\n",
            "Active\n"
          ]
        }
      ]
    },
    {
      "cell_type": "code",
      "source": [
        "for i in writer:\n",
        "  print(writer[i])"
      ],
      "metadata": {
        "colab": {
          "base_uri": "https://localhost:8080/"
        },
        "id": "Osl7E8TzzPDj",
        "outputId": "c33d6478-7890-441c-9a0e-ad8f3945401d"
      },
      "execution_count": null,
      "outputs": [
        {
          "output_type": "stream",
          "name": "stdout",
          "text": [
            "Mukarmi\n",
            "Japanese\n",
            "['1084', 'Kafka on the Shore']\n",
            "75\n",
            "fiction\n",
            "4.2\n",
            "True\n"
          ]
        }
      ]
    },
    {
      "cell_type": "code",
      "source": [
        "#dubai key ra value dekhako\n",
        "for i in writer.items():\n",
        "  print(i)"
      ],
      "metadata": {
        "colab": {
          "base_uri": "https://localhost:8080/"
        },
        "id": "jna_HLFOzW-X",
        "outputId": "45378e22-9209-4da4-889c-0d25fdc71055"
      },
      "execution_count": null,
      "outputs": [
        {
          "output_type": "stream",
          "name": "stdout",
          "text": [
            "('name', 'Mukarmi')\n",
            "('languages', 'Japanese')\n",
            "('books', ['1084', 'Kafka on the Shore'])\n",
            "('age', '75')\n",
            "('genre', 'fiction')\n",
            "('average rating', 4.2)\n",
            "('Active', True)\n"
          ]
        }
      ]
    },
    {
      "cell_type": "markdown",
      "source": [
        "#tuples as key"
      ],
      "metadata": {
        "id": "RFTb2Qqvzm56"
      }
    },
    {
      "cell_type": "code",
      "source": [
        "coordinates={(0,0):\"Hall\",\n",
        "             (0,1):\"Kitchen\",\n",
        "             (1,0):\"Bedroom\"\n",
        "             }\n"
      ],
      "metadata": {
        "id": "kKPN1-7mzkiN"
      },
      "execution_count": null,
      "outputs": []
    },
    {
      "cell_type": "code",
      "source": [
        "for key,value in coordinates.items():\n",
        "  print(key,value)"
      ],
      "metadata": {
        "colab": {
          "base_uri": "https://localhost:8080/"
        },
        "id": "YQO2k5_Cz2Yw",
        "outputId": "904bf12d-35e9-44c6-ad9a-cfef88b80b0f"
      },
      "execution_count": null,
      "outputs": [
        {
          "output_type": "stream",
          "name": "stdout",
          "text": [
            "(0, 0) Hall\n",
            "(0, 1) Kitchen\n",
            "(1, 0) Bedroom\n"
          ]
        }
      ]
    }
  ]
}