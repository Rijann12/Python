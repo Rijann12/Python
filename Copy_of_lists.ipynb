{
  "nbformat": 4,
  "nbformat_minor": 0,
  "metadata": {
    "colab": {
      "provenance": [],
      "include_colab_link": true
    },
    "kernelspec": {
      "name": "python3",
      "display_name": "Python 3"
    },
    "language_info": {
      "name": "python"
    }
  },
  "cells": [
    {
      "cell_type": "markdown",
      "metadata": {
        "id": "view-in-github",
        "colab_type": "text"
      },
      "source": [
        "<a href=\"https://colab.research.google.com/github/Rijann12/Pythonquiz/blob/main/Copy_of_lists.ipynb\" target=\"_parent\"><img src=\"https://colab.research.google.com/assets/colab-badge.svg\" alt=\"Open In Colab\"/></a>"
      ]
    },
    {
      "cell_type": "code",
      "execution_count": null,
      "metadata": {
        "colab": {
          "base_uri": "https://localhost:8080/"
        },
        "id": "VDet11H7xv4Z",
        "outputId": "96d15fe6-3b2b-43ca-f5dc-a92b7bb1241e"
      },
      "outputs": [
        {
          "output_type": "execute_result",
          "data": {
            "text/plain": [
              "['Dudh koshi', 'Sun koshi']"
            ]
          },
          "metadata": {},
          "execution_count": 2
        }
      ],
      "source": [
        "koshi=['Dudh koshi','Sun koshi','Tama koshi','Arun','Tamor','Indrawati','Bhote Koshi']\n",
        "\n",
        "koshi[:-5]"
      ]
    },
    {
      "cell_type": "code",
      "source": [
        "koshi\n"
      ],
      "metadata": {
        "colab": {
          "base_uri": "https://localhost:8080/"
        },
        "id": "Mep_Xkcqf0zO",
        "outputId": "243b392a-bc73-4fbd-b9ef-9eafea7e3afc"
      },
      "execution_count": null,
      "outputs": [
        {
          "output_type": "execute_result",
          "data": {
            "text/plain": [
              "['Dudh koshi',\n",
              " 'Sun koshi',\n",
              " 'Tama koshi',\n",
              " 'Arun',\n",
              " 'Tamor',\n",
              " 'Indrawati',\n",
              " 'Bhote Koshi']"
            ]
          },
          "metadata": {},
          "execution_count": 3
        }
      ]
    },
    {
      "cell_type": "code",
      "source": [
        "print(koshi)\n",
        "del koshi[1]\n",
        "print(koshi)\n"
      ],
      "metadata": {
        "id": "vTRVKNoUzwmM",
        "colab": {
          "base_uri": "https://localhost:8080/"
        },
        "outputId": "5d9d2c5a-da6a-41fd-8237-ac221bda1dbc"
      },
      "execution_count": null,
      "outputs": [
        {
          "output_type": "stream",
          "name": "stdout",
          "text": [
            "['Dudh koshi', 'Sun koshi', 'Tama koshi', 'Arun', 'Tamor', 'Indrawati', 'Bhote Koshi']\n",
            "['Dudh koshi', 'Tama koshi', 'Arun', 'Tamor', 'Indrawati', 'Bhote Koshi']\n"
          ]
        }
      ]
    },
    {
      "cell_type": "code",
      "source": [
        "koshi.clear()\n",
        "print(koshi)"
      ],
      "metadata": {
        "colab": {
          "base_uri": "https://localhost:8080/"
        },
        "id": "uzAQg9VP1rB5",
        "outputId": "6a097d7e-0638-435e-f9fe-6e2ef6d77f3d"
      },
      "execution_count": null,
      "outputs": [
        {
          "output_type": "stream",
          "name": "stdout",
          "text": [
            "[]\n"
          ]
        }
      ]
    },
    {
      "cell_type": "code",
      "source": [
        "del koshi"
      ],
      "metadata": {
        "id": "Z0hnFrzL10TL"
      },
      "execution_count": null,
      "outputs": []
    },
    {
      "cell_type": "code",
      "source": [
        "koshi"
      ],
      "metadata": {
        "colab": {
          "base_uri": "https://localhost:8080/",
          "height": 141
        },
        "id": "Mjv4UewV13fH",
        "outputId": "18cfe6d8-6a23-4ce7-e2bf-6779850960a9"
      },
      "execution_count": null,
      "outputs": [
        {
          "output_type": "error",
          "ename": "NameError",
          "evalue": "name 'koshi' is not defined",
          "traceback": [
            "\u001b[0;31m---------------------------------------------------------------------------\u001b[0m",
            "\u001b[0;31mNameError\u001b[0m                                 Traceback (most recent call last)",
            "\u001b[0;32m<ipython-input-6-dfc3f85e698b>\u001b[0m in \u001b[0;36m<cell line: 1>\u001b[0;34m()\u001b[0m\n\u001b[0;32m----> 1\u001b[0;31m \u001b[0mkoshi\u001b[0m\u001b[0;34m\u001b[0m\u001b[0;34m\u001b[0m\u001b[0m\n\u001b[0m",
            "\u001b[0;31mNameError\u001b[0m: name 'koshi' is not defined"
          ]
        }
      ]
    },
    {
      "cell_type": "code",
      "source": [
        "distros=['Ubuntu','Fedora','Arch linux','Linux Mint','Kubuntu']\n",
        "\n",
        "tu_distros=[]\n",
        "\n",
        "for distro in distros:\n",
        "  if 'tu' in distro:\n",
        "    tu_distros.append(distro)\n",
        "print(tu_distros)"
      ],
      "metadata": {
        "colab": {
          "base_uri": "https://localhost:8080/"
        },
        "id": "-ElmgU8k2KDd",
        "outputId": "338ee15c-9213-40d6-e548-88d8e12f9acf"
      },
      "execution_count": null,
      "outputs": [
        {
          "output_type": "stream",
          "name": "stdout",
          "text": [
            "['Ubuntu', 'Kubuntu']\n"
          ]
        }
      ]
    },
    {
      "cell_type": "code",
      "source": [
        "tu_distros=[distro for distro in distros if \"tu\" in distro]\n",
        "tu_distros"
      ],
      "metadata": {
        "colab": {
          "base_uri": "https://localhost:8080/"
        },
        "id": "A7G6Oy0M3ilw",
        "outputId": "ff660198-a34e-4ba3-e120-d915da2539f1"
      },
      "execution_count": null,
      "outputs": [
        {
          "output_type": "execute_result",
          "data": {
            "text/plain": [
              "['Ubuntu', 'Kubuntu']"
            ]
          },
          "metadata": {},
          "execution_count": 9
        }
      ]
    },
    {
      "cell_type": "code",
      "source": [
        "odd=[x for x in range(10) if x%2!=0]\n",
        "print(odd)"
      ],
      "metadata": {
        "colab": {
          "base_uri": "https://localhost:8080/"
        },
        "id": "Tuwketd-3-3U",
        "outputId": "52f475f6-6c49-43b7-a9cc-f57af8fe868e"
      },
      "execution_count": null,
      "outputs": [
        {
          "output_type": "stream",
          "name": "stdout",
          "text": [
            "[1, 3, 5, 7, 9]\n"
          ]
        }
      ]
    }
  ]
}