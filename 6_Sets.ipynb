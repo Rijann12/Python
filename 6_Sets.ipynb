{
  "nbformat": 4,
  "nbformat_minor": 0,
  "metadata": {
    "colab": {
      "provenance": [],
      "authorship_tag": "ABX9TyOJ8fl2p8Fxasv9qdsjvT2z",
      "include_colab_link": true
    },
    "kernelspec": {
      "name": "python3",
      "display_name": "Python 3"
    },
    "language_info": {
      "name": "python"
    }
  },
  "cells": [
    {
      "cell_type": "markdown",
      "metadata": {
        "id": "view-in-github",
        "colab_type": "text"
      },
      "source": [
        "<a href=\"https://colab.research.google.com/github/Rijann12/Pythonquiz/blob/main/6_Sets.ipynb\" target=\"_parent\"><img src=\"https://colab.research.google.com/assets/colab-badge.svg\" alt=\"Open In Colab\"/></a>"
      ]
    },
    {
      "cell_type": "markdown",
      "source": [
        "#Basics\n"
      ],
      "metadata": {
        "id": "Y6bEMHEtkcTy"
      }
    },
    {
      "cell_type": "code",
      "execution_count": null,
      "metadata": {
        "id": "gOx1Uth5j7L5"
      },
      "outputs": [],
      "source": [
        "instruments={'guitar','drums','cajon','tambourine','guitar'}\n"
      ]
    },
    {
      "cell_type": "code",
      "source": [
        "instruments_list=['guitar','drums','cajon','tambourine','guitar']\n",
        "instruments_tuple=('guitar','drums','cajon','tambourine','guitar')\n"
      ],
      "metadata": {
        "id": "YHbPx-1Ok347"
      },
      "execution_count": null,
      "outputs": []
    },
    {
      "cell_type": "code",
      "source": [
        "print(instruments)\n",
        "print(instruments_list)\n",
        "print(instruments_tuple)\n"
      ],
      "metadata": {
        "colab": {
          "base_uri": "https://localhost:8080/"
        },
        "id": "BXmpQDX3lE4e",
        "outputId": "b2403f01-ddc4-481e-8e64-baeefc475304"
      },
      "execution_count": null,
      "outputs": [
        {
          "output_type": "stream",
          "name": "stdout",
          "text": [
            "{'cajon', 'tambourine', 'drums', 'guitar'}\n",
            "['guitar', 'drums', 'cajon', 'tambourine', 'guitar']\n",
            "('guitar', 'drums', 'cajon', 'tambourine', 'guitar')\n"
          ]
        }
      ]
    },
    {
      "cell_type": "markdown",
      "source": [
        "#Assesing items in set\n"
      ],
      "metadata": {
        "id": "GBzraeBblrTl"
      }
    },
    {
      "cell_type": "code",
      "source": [
        "instruments={'guitar','drums','cajon','tambourine'}\n",
        "for i in instruments:\n",
        "  print(i)"
      ],
      "metadata": {
        "colab": {
          "base_uri": "https://localhost:8080/"
        },
        "id": "Jr8EdhdQluqw",
        "outputId": "d86e651a-677c-4889-eeff-d41cc058f6d8"
      },
      "execution_count": null,
      "outputs": [
        {
          "output_type": "stream",
          "name": "stdout",
          "text": [
            "cajon\n",
            "tambourine\n",
            "drums\n",
            "guitar\n"
          ]
        }
      ]
    },
    {
      "cell_type": "code",
      "source": [
        "'flute' in instruments\n"
      ],
      "metadata": {
        "colab": {
          "base_uri": "https://localhost:8080/"
        },
        "id": "yB1wU2KRmGH5",
        "outputId": "2bceb304-b6bc-4302-d592-f7f678fc2b71"
      },
      "execution_count": null,
      "outputs": [
        {
          "output_type": "execute_result",
          "data": {
            "text/plain": [
              "False"
            ]
          },
          "metadata": {},
          "execution_count": 10
        }
      ]
    },
    {
      "cell_type": "code",
      "source": [
        "num_list=[1,2,3,5]\n",
        "print(num_list)\n",
        "num_set = set(num_list)\n",
        "print(num_set)\n",
        "num_tuple =tuple(num_list)\n",
        "print(num_tuple)"
      ],
      "metadata": {
        "colab": {
          "base_uri": "https://localhost:8080/"
        },
        "id": "D89-mR_fmOjQ",
        "outputId": "a2c5e06e-c6bc-49e1-cece-804153d049dd"
      },
      "execution_count": null,
      "outputs": [
        {
          "output_type": "stream",
          "name": "stdout",
          "text": [
            "[1, 2, 3, 5]\n",
            "{1, 2, 3, 5}\n",
            "(1, 2, 3, 5)\n"
          ]
        }
      ]
    },
    {
      "cell_type": "markdown",
      "source": [
        "#Adding items\n"
      ],
      "metadata": {
        "id": "v4Z1-41nnGVA"
      }
    },
    {
      "cell_type": "code",
      "source": [
        "prime_1={2,3,5,7}\n",
        "prime_1.add(19)\n",
        "print(prime_1)"
      ],
      "metadata": {
        "colab": {
          "base_uri": "https://localhost:8080/"
        },
        "id": "b0ugNjkPnJ3-",
        "outputId": "85b7aaf1-1757-471f-b495-70a551686439"
      },
      "execution_count": null,
      "outputs": [
        {
          "output_type": "stream",
          "name": "stdout",
          "text": [
            "{2, 3, 5, 7, 19}\n"
          ]
        }
      ]
    },
    {
      "cell_type": "code",
      "source": [
        "prime_2={11,13,17}\n",
        "prime_1.update(prime_2)\n",
        "print(prime_1)"
      ],
      "metadata": {
        "colab": {
          "base_uri": "https://localhost:8080/"
        },
        "id": "ndm1DqmynhzC",
        "outputId": "941e9db2-616f-430d-dfb6-fd64aa66a736"
      },
      "execution_count": null,
      "outputs": [
        {
          "output_type": "stream",
          "name": "stdout",
          "text": [
            "{2, 3, 5, 7, 11, 13, 17, 19}\n"
          ]
        }
      ]
    },
    {
      "cell_type": "code",
      "source": [
        "prime_list=[23,29,31,37]\n",
        "prime_1.update(prime_list)\n",
        "print(prime_1)\n"
      ],
      "metadata": {
        "colab": {
          "base_uri": "https://localhost:8080/"
        },
        "id": "O-IIxX7Xny7_",
        "outputId": "55b7e832-04b0-48d4-e62b-358167cfd496"
      },
      "execution_count": null,
      "outputs": [
        {
          "output_type": "stream",
          "name": "stdout",
          "text": [
            "{2, 3, 5, 37, 7, 11, 13, 17, 19, 23, 29, 31}\n"
          ]
        }
      ]
    },
    {
      "cell_type": "markdown",
      "source": [
        "#removing items from a set\n"
      ],
      "metadata": {
        "id": "hPALmWx5oFoS"
      }
    },
    {
      "cell_type": "code",
      "source": [
        "evenNum={2,4,5,6,8}\n",
        "evenNum.remove(5)\n",
        "print(evenNum)"
      ],
      "metadata": {
        "colab": {
          "base_uri": "https://localhost:8080/"
        },
        "id": "1qDe7zAnoLNX",
        "outputId": "54947109-145f-47a1-cf7d-595f67830458"
      },
      "execution_count": null,
      "outputs": [
        {
          "output_type": "stream",
          "name": "stdout",
          "text": [
            "{2, 4, 6, 8}\n"
          ]
        }
      ]
    },
    {
      "cell_type": "code",
      "source": [
        "evenNum.remove(55)\n",
        "print(evenNum)"
      ],
      "metadata": {
        "colab": {
          "base_uri": "https://localhost:8080/",
          "height": 158
        },
        "id": "mNiZlDAdokzX",
        "outputId": "48df9963-8335-4092-9c03-4d37334e7398"
      },
      "execution_count": null,
      "outputs": [
        {
          "output_type": "error",
          "ename": "KeyError",
          "evalue": "55",
          "traceback": [
            "\u001b[0;31m---------------------------------------------------------------------------\u001b[0m",
            "\u001b[0;31mKeyError\u001b[0m                                  Traceback (most recent call last)",
            "\u001b[0;32m<ipython-input-20-fd9ab6dc225f>\u001b[0m in \u001b[0;36m<cell line: 1>\u001b[0;34m()\u001b[0m\n\u001b[0;32m----> 1\u001b[0;31m \u001b[0mevenNum\u001b[0m\u001b[0;34m.\u001b[0m\u001b[0mremove\u001b[0m\u001b[0;34m(\u001b[0m\u001b[0;36m55\u001b[0m\u001b[0;34m)\u001b[0m\u001b[0;34m\u001b[0m\u001b[0;34m\u001b[0m\u001b[0m\n\u001b[0m\u001b[1;32m      2\u001b[0m \u001b[0mprint\u001b[0m\u001b[0;34m(\u001b[0m\u001b[0mevenNum\u001b[0m\u001b[0;34m)\u001b[0m\u001b[0;34m\u001b[0m\u001b[0;34m\u001b[0m\u001b[0m\n",
            "\u001b[0;31mKeyError\u001b[0m: 55"
          ]
        }
      ]
    },
    {
      "cell_type": "code",
      "source": [
        "evenNum.discard(6)\n",
        "print(evenNum)"
      ],
      "metadata": {
        "colab": {
          "base_uri": "https://localhost:8080/"
        },
        "id": "uKMrnGosowpe",
        "outputId": "e7789f5f-ff01-476a-946f-442e78a4ba48"
      },
      "execution_count": null,
      "outputs": [
        {
          "output_type": "stream",
          "name": "stdout",
          "text": [
            "{2, 4, 8}\n"
          ]
        }
      ]
    },
    {
      "cell_type": "markdown",
      "source": [
        "#set operations\n"
      ],
      "metadata": {
        "id": "TR6GStafo697"
      }
    },
    {
      "cell_type": "code",
      "source": [
        "novels1={'catch 22',\"fools die\",\"godfather\",\"last don\"}\n",
        "novels2={\"silician\",\"catch 22\",\"godfather\",'1084'}\n",
        "novels=novels1.union(novels2)\n",
        "print(novels)\n",
        "novels=novels1.intersection(novels2)\n",
        "print(novels)\n",
        "novels=novels1.symmetric_difference(novels2)\n",
        "print(novels)"
      ],
      "metadata": {
        "colab": {
          "base_uri": "https://localhost:8080/"
        },
        "id": "BHETgPe3o9qu",
        "outputId": "5f6f26af-2026-4b60-f116-d7287453efaa"
      },
      "execution_count": null,
      "outputs": [
        {
          "output_type": "stream",
          "name": "stdout",
          "text": [
            "{'catch 22', 'silician', 'last don', 'fools die', '1084', 'godfather'}\n",
            "{'catch 22', 'godfather'}\n",
            "{'silician', 'last don', 'fools die', '1084'}\n"
          ]
        }
      ]
    },
    {
      "cell_type": "code",
      "source": [
        "#intersection\n",
        "print(novels1&novels2)\n"
      ],
      "metadata": {
        "colab": {
          "base_uri": "https://localhost:8080/"
        },
        "id": "FRRnWPn7qO4P",
        "outputId": "5d44c1ae-766b-43dc-8260-3cf746e0e616"
      },
      "execution_count": null,
      "outputs": [
        {
          "output_type": "stream",
          "name": "stdout",
          "text": [
            "{'catch 22', 'godfather'}\n"
          ]
        }
      ]
    },
    {
      "cell_type": "code",
      "source": [
        "#union\n",
        "print(novels1|novels2)\n"
      ],
      "metadata": {
        "colab": {
          "base_uri": "https://localhost:8080/"
        },
        "id": "bPh1kAw-qQm5",
        "outputId": "20089f63-8a3c-4a5a-b5f6-61388550fa66"
      },
      "execution_count": null,
      "outputs": [
        {
          "output_type": "stream",
          "name": "stdout",
          "text": [
            "{'catch 22', 'silician', 'last don', 'fools die', '1084', 'godfather'}\n"
          ]
        }
      ]
    },
    {
      "cell_type": "code",
      "source": [
        "#symmetric difference\n",
        "print(novels1^novels2)\n"
      ],
      "metadata": {
        "colab": {
          "base_uri": "https://localhost:8080/"
        },
        "id": "mTYOW0uXqVmY",
        "outputId": "afb52c61-55c6-407b-f5cf-59dcf9cde1f5"
      },
      "execution_count": null,
      "outputs": [
        {
          "output_type": "stream",
          "name": "stdout",
          "text": [
            "{'silician', 'last don', 'fools die', '1084'}\n"
          ]
        }
      ]
    },
    {
      "cell_type": "code",
      "source": [
        "num ={1,2,3,4,5,6,7,8,9}\n",
        "num1={4,6}\n",
        "num2={0,1,2}\n",
        "num3={7,8,9,2}\n",
        "#subsets ko kaam garya xa\n",
        "num1<num"
      ],
      "metadata": {
        "colab": {
          "base_uri": "https://localhost:8080/"
        },
        "id": "z3z3oDiiqr8m",
        "outputId": "eb24265a-a891-44ed-a3d5-a34c1c2d9461"
      },
      "execution_count": null,
      "outputs": [
        {
          "output_type": "execute_result",
          "data": {
            "text/plain": [
              "True"
            ]
          },
          "metadata": {},
          "execution_count": 33
        }
      ]
    },
    {
      "cell_type": "code",
      "source": [
        "num2<num"
      ],
      "metadata": {
        "colab": {
          "base_uri": "https://localhost:8080/"
        },
        "id": "gcbtLsdbq8mg",
        "outputId": "4ac7c629-3836-4808-ad1f-d8d1ae8b9bdc"
      },
      "execution_count": null,
      "outputs": [
        {
          "output_type": "execute_result",
          "data": {
            "text/plain": [
              "False"
            ]
          },
          "metadata": {},
          "execution_count": 34
        }
      ]
    },
    {
      "cell_type": "code",
      "source": [
        "#\n",
        "num1>num"
      ],
      "metadata": {
        "colab": {
          "base_uri": "https://localhost:8080/"
        },
        "id": "JbulZpTyq_Aa",
        "outputId": "73f7a253-6558-4a47-d8ae-4d1e16c0cbe5"
      },
      "execution_count": null,
      "outputs": [
        {
          "output_type": "execute_result",
          "data": {
            "text/plain": [
              "False"
            ]
          },
          "metadata": {},
          "execution_count": 35
        }
      ]
    },
    {
      "cell_type": "markdown",
      "source": [
        "#frozen set\n"
      ],
      "metadata": {
        "id": "VobyoR_irhJJ"
      }
    },
    {
      "cell_type": "code",
      "source": [
        "a={1,2,3,5}\n",
        "b=frozenset((2,3,6,8,9))\n",
        "c=frozenset((6,8,9,7))\n",
        "d={2,3,9}"
      ],
      "metadata": {
        "id": "xkmp9wTlrg00"
      },
      "execution_count": null,
      "outputs": []
    },
    {
      "cell_type": "code",
      "source": [
        "a.update(d)\n",
        "print(a)"
      ],
      "metadata": {
        "colab": {
          "base_uri": "https://localhost:8080/"
        },
        "id": "jUm0UfOyrzIF",
        "outputId": "72c6a86b-0b8e-4cd6-8ff1-f1434aaf032d"
      },
      "execution_count": null,
      "outputs": [
        {
          "output_type": "stream",
          "name": "stdout",
          "text": [
            "{1, 2, 3, 5, 9}\n"
          ]
        }
      ]
    },
    {
      "cell_type": "code",
      "source": [
        "b.update(d)\n",
        "b"
      ],
      "metadata": {
        "colab": {
          "base_uri": "https://localhost:8080/",
          "height": 158
        },
        "id": "WypGh6_pr-ER",
        "outputId": "5a71e04d-ec21-40d8-f87d-a6538d4f739b"
      },
      "execution_count": null,
      "outputs": [
        {
          "output_type": "error",
          "ename": "AttributeError",
          "evalue": "'frozenset' object has no attribute 'update'",
          "traceback": [
            "\u001b[0;31m---------------------------------------------------------------------------\u001b[0m",
            "\u001b[0;31mAttributeError\u001b[0m                            Traceback (most recent call last)",
            "\u001b[0;32m<ipython-input-42-df3e24b263a8>\u001b[0m in \u001b[0;36m<cell line: 1>\u001b[0;34m()\u001b[0m\n\u001b[0;32m----> 1\u001b[0;31m \u001b[0mb\u001b[0m\u001b[0;34m.\u001b[0m\u001b[0mupdate\u001b[0m\u001b[0;34m(\u001b[0m\u001b[0md\u001b[0m\u001b[0;34m)\u001b[0m\u001b[0;34m\u001b[0m\u001b[0;34m\u001b[0m\u001b[0m\n\u001b[0m\u001b[1;32m      2\u001b[0m \u001b[0mb\u001b[0m\u001b[0;34m\u001b[0m\u001b[0;34m\u001b[0m\u001b[0m\n",
            "\u001b[0;31mAttributeError\u001b[0m: 'frozenset' object has no attribute 'update'"
          ]
        }
      ]
    },
    {
      "cell_type": "code",
      "source": [
        "a.remove(2)\n",
        "a"
      ],
      "metadata": {
        "colab": {
          "base_uri": "https://localhost:8080/"
        },
        "id": "P7ohRACusJHj",
        "outputId": "58fce88b-1d36-4bce-f452-3774b8567597"
      },
      "execution_count": null,
      "outputs": [
        {
          "output_type": "execute_result",
          "data": {
            "text/plain": [
              "{1, 3, 5, 9}"
            ]
          },
          "metadata": {},
          "execution_count": 41
        }
      ]
    },
    {
      "cell_type": "code",
      "source": [
        "c.remove(6)\n",
        "c"
      ],
      "metadata": {
        "colab": {
          "base_uri": "https://localhost:8080/",
          "height": 158
        },
        "id": "vHdzqfSPsQXc",
        "outputId": "4dbceb0f-bf8b-4997-d161-3e14b926949f"
      },
      "execution_count": null,
      "outputs": [
        {
          "output_type": "error",
          "ename": "AttributeError",
          "evalue": "'frozenset' object has no attribute 'remove'",
          "traceback": [
            "\u001b[0;31m---------------------------------------------------------------------------\u001b[0m",
            "\u001b[0;31mAttributeError\u001b[0m                            Traceback (most recent call last)",
            "\u001b[0;32m<ipython-input-43-40cf2f41396d>\u001b[0m in \u001b[0;36m<cell line: 1>\u001b[0;34m()\u001b[0m\n\u001b[0;32m----> 1\u001b[0;31m \u001b[0mc\u001b[0m\u001b[0;34m.\u001b[0m\u001b[0mremove\u001b[0m\u001b[0;34m(\u001b[0m\u001b[0;36m6\u001b[0m\u001b[0;34m)\u001b[0m\u001b[0;34m\u001b[0m\u001b[0;34m\u001b[0m\u001b[0m\n\u001b[0m\u001b[1;32m      2\u001b[0m \u001b[0mc\u001b[0m\u001b[0;34m\u001b[0m\u001b[0;34m\u001b[0m\u001b[0m\n",
            "\u001b[0;31mAttributeError\u001b[0m: 'frozenset' object has no attribute 'remove'"
          ]
        }
      ]
    },
    {
      "cell_type": "code",
      "source": [
        "b & c"
      ],
      "metadata": {
        "colab": {
          "base_uri": "https://localhost:8080/"
        },
        "id": "g8Qg8Jz-sVHJ",
        "outputId": "d1fe55e1-9683-46dc-83c5-48fc9c332281"
      },
      "execution_count": null,
      "outputs": [
        {
          "output_type": "execute_result",
          "data": {
            "text/plain": [
              "frozenset({6, 8, 9})"
            ]
          },
          "metadata": {},
          "execution_count": 44
        }
      ]
    },
    {
      "cell_type": "code",
      "source": [
        "b^c\n"
      ],
      "metadata": {
        "colab": {
          "base_uri": "https://localhost:8080/"
        },
        "id": "6ZhqAfxysfIJ",
        "outputId": "e8ebfb0f-8115-4035-bd36-53a1f7555747"
      },
      "execution_count": null,
      "outputs": [
        {
          "output_type": "execute_result",
          "data": {
            "text/plain": [
              "frozenset({2, 3, 7})"
            ]
          },
          "metadata": {},
          "execution_count": 45
        }
      ]
    },
    {
      "cell_type": "code",
      "source": [
        "for i in b:\n",
        "  print(i)"
      ],
      "metadata": {
        "colab": {
          "base_uri": "https://localhost:8080/"
        },
        "id": "fdaJhFKBsiN0",
        "outputId": "c7f63503-9d27-477b-d4f4-1bf8f7ca1c50"
      },
      "execution_count": null,
      "outputs": [
        {
          "output_type": "stream",
          "name": "stdout",
          "text": [
            "2\n",
            "3\n",
            "6\n",
            "8\n",
            "9\n"
          ]
        }
      ]
    }
  ]
}